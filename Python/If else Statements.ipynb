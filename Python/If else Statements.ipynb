{
 "cells": [
  {
   "cell_type": "markdown",
   "id": "43eb8f06",
   "metadata": {},
   "source": [
    "# If else"
   ]
  },
  {
   "cell_type": "code",
   "execution_count": null,
   "id": "13273fc8",
   "metadata": {},
   "outputs": [],
   "source": [
    "a=300\n",
    "b=500\n",
    "\n",
    "if b>a:\n",
    "    print(\"Valid\")\n",
    "    else:\n",
    "        print(\"Invalid\")"
   ]
  },
  {
   "cell_type": "markdown",
   "id": "d29dd66c",
   "metadata": {},
   "source": [
    "# Indentation\n"
   ]
  },
  {
   "cell_type": "code",
   "execution_count": 4,
   "id": "0106d8ca",
   "metadata": {},
   "outputs": [
    {
     "name": "stdout",
     "output_type": "stream",
     "text": [
      "b is greater than a\n"
     ]
    }
   ],
   "source": [
    "a=33\n",
    "b=200\n",
    "if b>a:\n",
    "    print(\"b is greater than a\")   # 1 tab==4 times space"
   ]
  },
  {
   "cell_type": "code",
   "execution_count": 7,
   "id": "5cde56bf",
   "metadata": {},
   "outputs": [],
   "source": [
    "a=45\n",
    "b=300\n",
    "if b<a:\n",
    "    print(\"abc\")   # you will get an error"
   ]
  },
  {
   "cell_type": "markdown",
   "id": "0abd9f4d",
   "metadata": {},
   "source": [
    "# Elif"
   ]
  },
  {
   "cell_type": "code",
   "execution_count": 8,
   "id": "3e665c95",
   "metadata": {},
   "outputs": [
    {
     "name": "stdout",
     "output_type": "stream",
     "text": [
      "Equal\n"
     ]
    }
   ],
   "source": [
    "a=44\n",
    "b=44\n",
    "if b>a:\n",
    "    print(\"Greater\")\n",
    "elif a==b:\n",
    "        print(\"Equal\")  #If the 1st condition fail then we go to 2nd condition"
   ]
  },
  {
   "cell_type": "markdown",
   "id": "b0b3706a",
   "metadata": {},
   "source": [
    "# * If the 1st condition fail then we go to 2nd condition"
   ]
  },
  {
   "cell_type": "code",
   "execution_count": 9,
   "id": "6d15ba66",
   "metadata": {},
   "outputs": [
    {
     "name": "stdout",
     "output_type": "stream",
     "text": [
      "Invalid\n"
     ]
    }
   ],
   "source": [
    "a=555\n",
    "b=55\n",
    "if b>a:\n",
    "    print(\"Valid\")\n",
    "elif a>b:\n",
    "        print(\"Invalid\")"
   ]
  },
  {
   "cell_type": "markdown",
   "id": "f9ef8cf6",
   "metadata": {},
   "source": [
    "# Else\n"
   ]
  },
  {
   "cell_type": "code",
   "execution_count": 10,
   "id": "eef67efc",
   "metadata": {},
   "outputs": [
    {
     "name": "stdout",
     "output_type": "stream",
     "text": [
      "None\n"
     ]
    }
   ],
   "source": [
    "a=200\n",
    "b=20\n",
    "if b>a:\n",
    "    print(\"Greater\")\n",
    "elif a==b:\n",
    "    print(\"Equal\")\n",
    "else:\n",
    "      print(\"None\")"
   ]
  },
  {
   "cell_type": "code",
   "execution_count": 3,
   "id": "92f0a295",
   "metadata": {},
   "outputs": [
    {
     "name": "stdout",
     "output_type": "stream",
     "text": [
      "A Grade\n"
     ]
    }
   ],
   "source": [
    "grade=91\n",
    "if grade >=90:\n",
    "    print(\"A Grade\")\n",
    "    \n",
    "elif grade >=80:\n",
    "        print(\"B Grade\")\n",
    "        \n",
    "elif grade >=70:\n",
    "        print(\"C Grade\")\n",
    "            \n",
    "elif grade >=65:\n",
    "    print(\"D Grade\")\n",
    "                \n",
    "else:\n",
    "      print(\"Failing Grade\")\n",
    "        "
   ]
  },
  {
   "cell_type": "markdown",
   "id": "3b52a19e",
   "metadata": {},
   "source": [
    "# You can also have an else Without the elif:"
   ]
  },
  {
   "cell_type": "code",
   "execution_count": 11,
   "id": "85ced241",
   "metadata": {},
   "outputs": [
    {
     "name": "stdout",
     "output_type": "stream",
     "text": [
      "B is not greater than a\n"
     ]
    }
   ],
   "source": [
    "a=2000\n",
    "b=333\n",
    "\n",
    "if b>a:\n",
    "    print(\"b is greater than a\")\n",
    "else:\n",
    "    print(\"B is not greater than a\")"
   ]
  },
  {
   "cell_type": "markdown",
   "id": "c47c610e",
   "metadata": {},
   "source": [
    "# And\n"
   ]
  },
  {
   "cell_type": "code",
   "execution_count": 12,
   "id": "2aa6e4c3",
   "metadata": {},
   "outputs": [
    {
     "name": "stdout",
     "output_type": "stream",
     "text": [
      "Invalid\n"
     ]
    }
   ],
   "source": [
    "a=200\n",
    "b=300\n",
    "c=500\n",
    "\n",
    "if a>b and c>a:   #cond1=True & Cond2=True   then only print\n",
    "    print(\"Both conditions are True\")\n",
    "else:\n",
    "    print(\"Invalid\")"
   ]
  },
  {
   "cell_type": "markdown",
   "id": "04070fd1",
   "metadata": {},
   "source": [
    "# Or"
   ]
  },
  {
   "cell_type": "code",
   "execution_count": 15,
   "id": "0e510d92",
   "metadata": {},
   "outputs": [
    {
     "name": "stdout",
     "output_type": "stream",
     "text": [
      "Invalid\n"
     ]
    }
   ],
   "source": [
    "a=200\n",
    "b=330\n",
    "c=500\n",
    "\n",
    "if a>b or a>c:   #cond1=True & Cond2=False   any one is true\n",
    "    print(\"At least one of the conditions is True\")\n",
    "else:\n",
    "    print(\"Invalid\")"
   ]
  },
  {
   "cell_type": "markdown",
   "id": "61fc123b",
   "metadata": {},
   "source": [
    "# Nested If"
   ]
  },
  {
   "cell_type": "code",
   "execution_count": 16,
   "id": "efc5fc84",
   "metadata": {},
   "outputs": [
    {
     "name": "stdout",
     "output_type": "stream",
     "text": [
      "Zero\n"
     ]
    }
   ],
   "source": [
    "num=6\n",
    "if num >=5:\n",
    "    if num < 9:\n",
    "        print(\"Zero\")\n",
    "    else:\n",
    "        print(\"Positive number\")\n",
    "else:\n",
    "    print(\"Negative number\")"
   ]
  },
  {
   "cell_type": "code",
   "execution_count": 13,
   "id": "45d94419",
   "metadata": {},
   "outputs": [
    {
     "name": "stdout",
     "output_type": "stream",
     "text": [
      "Passing grade of:\n",
      "B\n"
     ]
    }
   ],
   "source": [
    "grade=80\n",
    "if grade >=65:\n",
    "    print(\"Passing grade of:\")\n",
    "    if grade >=90:\n",
    "        print(\"A\")\n",
    "        \n",
    "    elif grade >=80:\n",
    "        print(\"B\")\n",
    "        \n",
    "    elif grade >=70:\n",
    "        print(\"C\")\n",
    "        \n",
    "    elif grade >=65:\n",
    "        print(\"D\")\n",
    "else:\n",
    "    print(\"Failing grade\")"
   ]
  },
  {
   "cell_type": "code",
   "execution_count": 14,
   "id": "acf8bbfd",
   "metadata": {},
   "outputs": [
    {
     "name": "stdout",
     "output_type": "stream",
     "text": [
      "Expression value is less than 200:\n",
      "Which is 150\n"
     ]
    }
   ],
   "source": [
    "var=150\n",
    "if var <200:\n",
    "    print(\"Expression value is less than 200:\")\n",
    "    if var ==150:\n",
    "        print(\"Which is 150\")\n",
    "        \n",
    "    elif var ==100:\n",
    "        print(\"Which is 100\")\n",
    "        \n",
    "    elif var ==50:\n",
    "        print(\"Which is 50\")\n",
    "        \n",
    "    elif var <50:\n",
    "        print(\"Expression value is less than 50\")\n",
    "else:\n",
    "    print(\"Invalid\")"
   ]
  },
  {
   "cell_type": "markdown",
   "id": "4f24ed58",
   "metadata": {},
   "source": [
    "# Finished"
   ]
  }
 ],
 "metadata": {
  "kernelspec": {
   "display_name": "Python 3 (ipykernel)",
   "language": "python",
   "name": "python3"
  },
  "language_info": {
   "codemirror_mode": {
    "name": "ipython",
    "version": 3
   },
   "file_extension": ".py",
   "mimetype": "text/x-python",
   "name": "python",
   "nbconvert_exporter": "python",
   "pygments_lexer": "ipython3",
   "version": "3.9.12"
  }
 },
 "nbformat": 4,
 "nbformat_minor": 5
}
