{
 "cells": [
  {
   "cell_type": "markdown",
   "id": "9489c66a",
   "metadata": {},
   "source": [
    "# Python String capitalize() Method"
   ]
  },
  {
   "cell_type": "code",
   "execution_count": 7,
   "id": "6b352d31",
   "metadata": {},
   "outputs": [
    {
     "name": "stdout",
     "output_type": "stream",
     "text": [
      "Hello, and welcome to my world.\n"
     ]
    }
   ],
   "source": [
    "txt=\"Hello, and welcome to my world.\"\n",
    "\n",
    "x=txt.capitalize()\n",
    "\n",
    "print(x)"
   ]
  },
  {
   "cell_type": "code",
   "execution_count": null,
   "id": "8cd3e54a",
   "metadata": {},
   "outputs": [],
   "source": [
    "txt=\"36 is my age\""
   ]
  },
  {
   "cell_type": "markdown",
   "id": "60c9eb9e",
   "metadata": {},
   "source": [
    "# Python String casefold() Method"
   ]
  },
  {
   "cell_type": "code",
   "execution_count": 8,
   "id": "6763f545",
   "metadata": {},
   "outputs": [
    {
     "name": "stdout",
     "output_type": "stream",
     "text": [
      "hello, and welcome to my world!\n"
     ]
    }
   ],
   "source": [
    "txt=\"Hello, And Welcome To My World!\"\n",
    "x=txt.casefold()\n",
    "print(x)"
   ]
  },
  {
   "cell_type": "markdown",
   "id": "fa5a13b9",
   "metadata": {},
   "source": [
    "# Python String center() Method"
   ]
  },
  {
   "cell_type": "code",
   "execution_count": 3,
   "id": "79f726ae",
   "metadata": {},
   "outputs": [
    {
     "name": "stdout",
     "output_type": "stream",
     "text": [
      "ooooooobananaooooooo\n"
     ]
    }
   ],
   "source": [
    "txt=\"banana\"\n",
    "\n",
    "x=txt.center(20, \"o\")\n",
    "\n",
    "print(x)"
   ]
  },
  {
   "cell_type": "markdown",
   "id": "88bd2f2a",
   "metadata": {},
   "source": [
    "# Python String count() Method"
   ]
  },
  {
   "cell_type": "code",
   "execution_count": 2,
   "id": "dae34287",
   "metadata": {},
   "outputs": [
    {
     "name": "stdout",
     "output_type": "stream",
     "text": [
      "2\n"
     ]
    }
   ],
   "source": [
    "txt=\"I love apples, apple are my favourite fruit\"\n",
    "\n",
    "x=txt.count(\"apple\")\n",
    "\n",
    "print(x)"
   ]
  },
  {
   "cell_type": "markdown",
   "id": "07cea3dc",
   "metadata": {},
   "source": [
    "# Python String encode() Method"
   ]
  },
  {
   "cell_type": "code",
   "execution_count": 1,
   "id": "e6f07f68",
   "metadata": {},
   "outputs": [
    {
     "name": "stdout",
     "output_type": "stream",
     "text": [
      "b'My name is Prashant'\n"
     ]
    }
   ],
   "source": [
    "txt=\"My name is St\"\n",
    "\n",
    "x=txt.encode()\n",
    "\n",
    "print(x)"
   ]
  },
  {
   "cell_type": "code",
   "execution_count": 4,
   "id": "b9188306",
   "metadata": {},
   "outputs": [
    {
     "name": "stdout",
     "output_type": "stream",
     "text": [
      "b'My name is Prashant'\n"
     ]
    }
   ],
   "source": [
    "txt=\"My name is Prashant\"\n",
    "\n",
    "print(txt.encode(encoding=\"ascii\",\n",
    "                 errors=\"backslashreplace\"))"
   ]
  },
  {
   "cell_type": "markdown",
   "id": "88684b58",
   "metadata": {},
   "source": [
    "# Python String endswith() Method"
   ]
  },
  {
   "cell_type": "code",
   "execution_count": 5,
   "id": "7741f324",
   "metadata": {},
   "outputs": [
    {
     "name": "stdout",
     "output_type": "stream",
     "text": [
      "True\n"
     ]
    }
   ],
   "source": [
    "txt=\"Hello, welcome to my world,\"\n",
    "\n",
    "x=txt.endswith(\",\")\n",
    "\n",
    "print(x)"
   ]
  },
  {
   "cell_type": "code",
   "execution_count": 6,
   "id": "66d63ef6",
   "metadata": {},
   "outputs": [
    {
     "name": "stdout",
     "output_type": "stream",
     "text": [
      "False\n"
     ]
    }
   ],
   "source": [
    "txt=\"Hello, welcome to my world.\"\n",
    "\n",
    "x=txt.endswith(\"my world.\",5,11)\n",
    "\n",
    "print(x)"
   ]
  },
  {
   "cell_type": "markdown",
   "id": "4d774c45",
   "metadata": {},
   "source": [
    "# Python String find() Method"
   ]
  },
  {
   "cell_type": "code",
   "execution_count": 10,
   "id": "c69e124f",
   "metadata": {},
   "outputs": [
    {
     "name": "stdout",
     "output_type": "stream",
     "text": [
      "15\n"
     ]
    }
   ],
   "source": [
    "txt=\"Hello, welcome to my world.\"\n",
    "\n",
    "x=txt.find(\"to\")\n",
    "\n",
    "print(x)"
   ]
  },
  {
   "cell_type": "code",
   "execution_count": 9,
   "id": "be6c3486",
   "metadata": {},
   "outputs": [
    {
     "name": "stdout",
     "output_type": "stream",
     "text": [
      "4\n"
     ]
    }
   ],
   "source": [
    "txt=\"Hello, welcome to my world.\"\n",
    "\n",
    "x=txt.find(\"o\",0,5)\n",
    "\n",
    "print(x)"
   ]
  },
  {
   "cell_type": "code",
   "execution_count": 11,
   "id": "ca273d21",
   "metadata": {},
   "outputs": [
    {
     "name": "stdout",
     "output_type": "stream",
     "text": [
      "-1\n"
     ]
    },
    {
     "ename": "ValueError",
     "evalue": "substring not found",
     "output_type": "error",
     "traceback": [
      "\u001b[1;31m---------------------------------------------------------------------------\u001b[0m",
      "\u001b[1;31mValueError\u001b[0m                                Traceback (most recent call last)",
      "Input \u001b[1;32mIn [11]\u001b[0m, in \u001b[0;36m<cell line: 4>\u001b[1;34m()\u001b[0m\n\u001b[0;32m      1\u001b[0m txt\u001b[38;5;241m=\u001b[39m\u001b[38;5;124m\"\u001b[39m\u001b[38;5;124mHello, welcome to my world.\u001b[39m\u001b[38;5;124m\"\u001b[39m\n\u001b[0;32m      3\u001b[0m \u001b[38;5;28mprint\u001b[39m(txt\u001b[38;5;241m.\u001b[39mfind(\u001b[38;5;124m\"\u001b[39m\u001b[38;5;124mq\u001b[39m\u001b[38;5;124m\"\u001b[39m))\n\u001b[1;32m----> 4\u001b[0m \u001b[38;5;28mprint\u001b[39m(\u001b[43mtxt\u001b[49m\u001b[38;5;241;43m.\u001b[39;49m\u001b[43mindex\u001b[49m\u001b[43m(\u001b[49m\u001b[38;5;124;43m\"\u001b[39;49m\u001b[38;5;124;43mq\u001b[39;49m\u001b[38;5;124;43m\"\u001b[39;49m\u001b[43m)\u001b[49m)\n",
      "\u001b[1;31mValueError\u001b[0m: substring not found"
     ]
    }
   ],
   "source": [
    "txt=\"Hello, welcome to my world.\"\n",
    "\n",
    "print(txt.find(\"q\"))\n",
    "print(txt.index(\"q\"))"
   ]
  },
  {
   "cell_type": "markdown",
   "id": "a16f9b35",
   "metadata": {},
   "source": [
    "# Python String isalnum() Method"
   ]
  },
  {
   "cell_type": "code",
   "execution_count": 12,
   "id": "a771e2b7",
   "metadata": {},
   "outputs": [
    {
     "name": "stdout",
     "output_type": "stream",
     "text": [
      "True\n"
     ]
    }
   ],
   "source": [
    "txt=\"Company12\"\n",
    "x=txt.isalnum()\n",
    "print(x)"
   ]
  },
  {
   "cell_type": "code",
   "execution_count": 13,
   "id": "dd282403",
   "metadata": {},
   "outputs": [
    {
     "name": "stdout",
     "output_type": "stream",
     "text": [
      "False\n"
     ]
    }
   ],
   "source": [
    "txt=\"Company@12\"\n",
    "x=txt.isalnum()\n",
    "print(x)"
   ]
  },
  {
   "cell_type": "markdown",
   "id": "e9e989cd",
   "metadata": {},
   "source": [
    "# Python String isalpha() Method"
   ]
  },
  {
   "cell_type": "code",
   "execution_count": 14,
   "id": "22bd6648",
   "metadata": {},
   "outputs": [
    {
     "name": "stdout",
     "output_type": "stream",
     "text": [
      "True\n"
     ]
    }
   ],
   "source": [
    "txt=\"CompanyX\"\n",
    "x=txt.isalpha()\n",
    "print(x)"
   ]
  },
  {
   "cell_type": "markdown",
   "id": "b9da0eb6",
   "metadata": {},
   "source": [
    "# Python String isdigit() Method"
   ]
  },
  {
   "cell_type": "code",
   "execution_count": 15,
   "id": "afa388ee",
   "metadata": {},
   "outputs": [
    {
     "name": "stdout",
     "output_type": "stream",
     "text": [
      "True\n"
     ]
    }
   ],
   "source": [
    "txt=\"50800\"\n",
    "x=txt.isdigit()\n",
    "print(x)"
   ]
  },
  {
   "cell_type": "markdown",
   "id": "98736df6",
   "metadata": {},
   "source": [
    "# Python String istitle() Method"
   ]
  },
  {
   "cell_type": "code",
   "execution_count": 16,
   "id": "ef5268f6",
   "metadata": {},
   "outputs": [
    {
     "name": "stdout",
     "output_type": "stream",
     "text": [
      "True\n"
     ]
    }
   ],
   "source": [
    "txt=\"Hello, And Welcome To My World!\"\n",
    "\n",
    "x=txt.istitle()\n",
    "\n",
    "print(x)"
   ]
  },
  {
   "cell_type": "code",
   "execution_count": 19,
   "id": "e0fd2e3e",
   "metadata": {},
   "outputs": [
    {
     "name": "stdout",
     "output_type": "stream",
     "text": [
      "True\n",
      "True\n",
      "False\n"
     ]
    }
   ],
   "source": [
    "b=\"Hello\"\n",
    "c=\"22 Names\"\n",
    "d=\"This is %'!?\"\n",
    "\n",
    "print(b.istitle())\n",
    "print(c.istitle())\n",
    "print(d.istitle())"
   ]
  },
  {
   "cell_type": "markdown",
   "id": "829b3ec0",
   "metadata": {},
   "source": [
    "# Python String islower() Method"
   ]
  },
  {
   "cell_type": "code",
   "execution_count": 21,
   "id": "9f0e34c9",
   "metadata": {},
   "outputs": [
    {
     "name": "stdout",
     "output_type": "stream",
     "text": [
      "True\n"
     ]
    }
   ],
   "source": [
    "txt=\"hello world\"\n",
    "\n",
    "x=txt.islower()\n",
    "\n",
    "print(x)"
   ]
  },
  {
   "cell_type": "code",
   "execution_count": 22,
   "id": "6e1d7dd0",
   "metadata": {},
   "outputs": [
    {
     "name": "stdout",
     "output_type": "stream",
     "text": [
      "False\n",
      "True\n",
      "False\n"
     ]
    }
   ],
   "source": [
    "a=\"Hello world\"\n",
    "b=\"hello 123\"\n",
    "c=\"mynameisPeter\"\n",
    "\n",
    "print(a.islower())\n",
    "print(b.islower())\n",
    "print(c.islower())"
   ]
  },
  {
   "cell_type": "markdown",
   "id": "a360a509",
   "metadata": {},
   "source": [
    "# Python String isupper() Method"
   ]
  },
  {
   "cell_type": "code",
   "execution_count": 24,
   "id": "6a5f0a37",
   "metadata": {},
   "outputs": [
    {
     "name": "stdout",
     "output_type": "stream",
     "text": [
      "True\n"
     ]
    }
   ],
   "source": [
    "txt=\"THIS IS NOW!\"\n",
    "x=txt.isupper()\n",
    "\n",
    "print(x)"
   ]
  },
  {
   "cell_type": "code",
   "execution_count": 23,
   "id": "22fdc2d4",
   "metadata": {},
   "outputs": [
    {
     "name": "stdout",
     "output_type": "stream",
     "text": [
      "False\n",
      "False\n",
      "True\n"
     ]
    }
   ],
   "source": [
    "a=\"Hello World!\"\n",
    "b=\"hello 123\"\n",
    "c=\"MY NAME IS PETER\"\n",
    "\n",
    "print(a.isupper())\n",
    "print(b.isupper())\n",
    "print(c.isupper())"
   ]
  },
  {
   "cell_type": "markdown",
   "id": "9bfdb321",
   "metadata": {},
   "source": [
    "# Python String lower() Method"
   ]
  },
  {
   "cell_type": "code",
   "execution_count": 25,
   "id": "3317acf8",
   "metadata": {},
   "outputs": [
    {
     "name": "stdout",
     "output_type": "stream",
     "text": [
      "hello my friends\n"
     ]
    }
   ],
   "source": [
    "txt=\"Hello my FRIENDS\"\n",
    "\n",
    "x=txt.lower()\n",
    "\n",
    "print(x)"
   ]
  },
  {
   "cell_type": "markdown",
   "id": "f802e5e7",
   "metadata": {},
   "source": [
    "# Python String upper() Method"
   ]
  },
  {
   "cell_type": "code",
   "execution_count": 26,
   "id": "fa9368a3",
   "metadata": {},
   "outputs": [
    {
     "name": "stdout",
     "output_type": "stream",
     "text": [
      "HELLO MY FRIENDS\n"
     ]
    }
   ],
   "source": [
    "txt=\"Hello my FRIENDS\"\n",
    "\n",
    "x=txt.upper()\n",
    "\n",
    "print(x)"
   ]
  },
  {
   "cell_type": "markdown",
   "id": "3593f7ca",
   "metadata": {},
   "source": [
    "# Python String partition() Method"
   ]
  },
  {
   "cell_type": "code",
   "execution_count": 28,
   "id": "b4b18335",
   "metadata": {},
   "outputs": [
    {
     "name": "stdout",
     "output_type": "stream",
     "text": [
      "('I could ', 'eat', ' bananas all day')\n"
     ]
    }
   ],
   "source": [
    "txt=\"I could eat bananas all day\"\n",
    "\n",
    "x=txt.partition(\"eat\")\n",
    "\n",
    "print(x)"
   ]
  },
  {
   "cell_type": "markdown",
   "id": "21df1560",
   "metadata": {},
   "source": [
    "# Python String replace() Method"
   ]
  },
  {
   "cell_type": "code",
   "execution_count": 29,
   "id": "9e60ce73",
   "metadata": {},
   "outputs": [
    {
     "name": "stdout",
     "output_type": "stream",
     "text": [
      "I like apples\n"
     ]
    }
   ],
   "source": [
    "txt=\"I like bananas\"\n",
    "\n",
    "x=txt.replace(\"bananas\",\"apples\")\n",
    "\n",
    "print(x)"
   ]
  },
  {
   "cell_type": "markdown",
   "id": "d9b84de0",
   "metadata": {},
   "source": [
    "# string.replace(oldvalue, newvalue, count)"
   ]
  },
  {
   "cell_type": "code",
   "execution_count": 37,
   "id": "a47fe3b2",
   "metadata": {},
   "outputs": [
    {
     "name": "stdout",
     "output_type": "stream",
     "text": [
      "Prashant Prashant was a race horse, two two was one too.\n"
     ]
    }
   ],
   "source": [
    "txt=\"one one was a race horse, two two was one too.\"\n",
    "\n",
    "x=txt.replace(\"one\", \"Prashant\",2)\n",
    "\n",
    "print(x)"
   ]
  },
  {
   "cell_type": "markdown",
   "id": "f90915ef",
   "metadata": {},
   "source": [
    "# Python String split() Method"
   ]
  },
  {
   "cell_type": "code",
   "execution_count": 38,
   "id": "83328cab",
   "metadata": {},
   "outputs": [
    {
     "name": "stdout",
     "output_type": "stream",
     "text": [
      "['welcome', 'to', 'the', 'jungle', '#', '123']\n"
     ]
    }
   ],
   "source": [
    "txt=\"welcome to the jungle # 123\"\n",
    "\n",
    "x=txt.split()\n",
    "\n",
    "print(x)"
   ]
  },
  {
   "cell_type": "code",
   "execution_count": 39,
   "id": "aa039110",
   "metadata": {},
   "outputs": [
    {
     "name": "stdout",
     "output_type": "stream",
     "text": [
      "['hello.', 'my', 'name', 'is', 'Peter.', 'I', 'am', '23', 'years', 'old']\n"
     ]
    }
   ],
   "source": [
    "txt= \"hello. my name is Peter. I am 23 years old\"\n",
    "\n",
    "x=txt.split()\n",
    "\n",
    "print(x)"
   ]
  },
  {
   "cell_type": "code",
   "execution_count": null,
   "id": "08c4d026",
   "metadata": {},
   "outputs": [],
   "source": []
  },
  {
   "cell_type": "code",
   "execution_count": null,
   "id": "f83f30c8",
   "metadata": {},
   "outputs": [],
   "source": []
  }
 ],
 "metadata": {
  "kernelspec": {
   "display_name": "Python 3 (ipykernel)",
   "language": "python",
   "name": "python3"
  },
  "language_info": {
   "codemirror_mode": {
    "name": "ipython",
    "version": 3
   },
   "file_extension": ".py",
   "mimetype": "text/x-python",
   "name": "python",
   "nbconvert_exporter": "python",
   "pygments_lexer": "ipython3",
   "version": "3.9.12"
  }
 },
 "nbformat": 4,
 "nbformat_minor": 5
}
