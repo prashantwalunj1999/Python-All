{
 "cells": [
  {
   "cell_type": "markdown",
   "id": "9be8c478",
   "metadata": {},
   "source": [
    "# Python Operators"
   ]
  },
  {
   "cell_type": "markdown",
   "id": "715162c3",
   "metadata": {},
   "source": [
    "# Python Arithmetic Operators"
   ]
  },
  {
   "cell_type": "code",
   "execution_count": 1,
   "id": "ea9391e4",
   "metadata": {},
   "outputs": [
    {
     "name": "stdout",
     "output_type": "stream",
     "text": [
      "8\n",
      "0\n",
      "1.0\n",
      "16\n"
     ]
    }
   ],
   "source": [
    "x=4\n",
    "y=4\n",
    "\n",
    "\n",
    "print(x+y)\n",
    "print(x-y)\n",
    "print(x/y)\n",
    "print(x*y)"
   ]
  },
  {
   "cell_type": "markdown",
   "id": "3d73f8ca",
   "metadata": {},
   "source": [
    "#  Modulus"
   ]
  },
  {
   "cell_type": "code",
   "execution_count": 12,
   "id": "bd4a6ec0",
   "metadata": {},
   "outputs": [
    {
     "name": "stdout",
     "output_type": "stream",
     "text": [
      "1\n"
     ]
    }
   ],
   "source": [
    "x=5\n",
    "y=2\n",
    "\n",
    "print(x%y)"
   ]
  },
  {
   "cell_type": "markdown",
   "id": "8b95755c",
   "metadata": {},
   "source": [
    "#  Exponentiation"
   ]
  },
  {
   "cell_type": "code",
   "execution_count": 7,
   "id": "a5416f1c",
   "metadata": {},
   "outputs": [
    {
     "name": "stdout",
     "output_type": "stream",
     "text": [
      "8\n"
     ]
    }
   ],
   "source": [
    "x=2\n",
    "y=3\n",
    "\n",
    "print(x **y)  # same as 2*2*2*2*2"
   ]
  },
  {
   "cell_type": "markdown",
   "id": "8d888080",
   "metadata": {},
   "source": [
    "#  Floor division"
   ]
  },
  {
   "cell_type": "code",
   "execution_count": 4,
   "id": "f9e3c0c0",
   "metadata": {},
   "outputs": [
    {
     "name": "stdout",
     "output_type": "stream",
     "text": [
      "1\n"
     ]
    }
   ],
   "source": [
    "x=5\n",
    "y=2\n",
    "\n",
    "print(x%y)   # the floor division // rounds the result down to the nearest whole number"
   ]
  },
  {
   "cell_type": "markdown",
   "id": "06c1005b",
   "metadata": {},
   "source": [
    "# Python Assignment Operators\n",
    "Assignment operator are used to assign values to variables:"
   ]
  },
  {
   "cell_type": "code",
   "execution_count": 5,
   "id": "918f67be",
   "metadata": {},
   "outputs": [
    {
     "name": "stdout",
     "output_type": "stream",
     "text": [
      "20\n"
     ]
    }
   ],
   "source": [
    "x=17   ## assign\n",
    "y=x+3  # use assign to create new assign\n",
    "print(y)"
   ]
  },
  {
   "cell_type": "markdown",
   "id": "7d7ac6de",
   "metadata": {},
   "source": [
    "# Python Comparison Operators\n",
    "Comparison operators are used to compare two values:"
   ]
  },
  {
   "cell_type": "code",
   "execution_count": 6,
   "id": "635b1f5a",
   "metadata": {},
   "outputs": [
    {
     "name": "stdout",
     "output_type": "stream",
     "text": [
      "True\n",
      "False\n",
      "False\n",
      "False\n",
      "True\n",
      "True\n"
     ]
    }
   ],
   "source": [
    "x=4  #=  assign\n",
    "y=4\n",
    "\n",
    "\n",
    "print(x==y)  #equal\n",
    "print(x!=y)  #Not Equal\n",
    "print(x>y)   # Greater than\n",
    "print(x<y)   # Less than\n",
    "print(x>=y)   # Greater than or equal to\n",
    "print(x<=y)   # Less than or equal to"
   ]
  },
  {
   "cell_type": "markdown",
   "id": "355d9cc8",
   "metadata": {},
   "source": [
    "# Python Logical Operators\n",
    "Logical operators are used to combine conditional statements:"
   ]
  },
  {
   "cell_type": "code",
   "execution_count": 8,
   "id": "0a92342f",
   "metadata": {},
   "outputs": [
    {
     "name": "stdout",
     "output_type": "stream",
     "text": [
      "True\n",
      "True\n",
      "True\n"
     ]
    }
   ],
   "source": [
    "x=11  #11\n",
    "\n",
    "print(x > 3 and  x < 15)  # (cond1  and cond2)\n",
    "\n",
    "# returns True because 5 is greater than 3 AND 5 is less than 10\n",
    "\n",
    "print(x > 3 or x < 4)  #(cond= true and cond2 = false)\n",
    "\n",
    "#returns True bcoz one of the cond are true (5 is greater than 3, but 5 is not less than 4)\n",
    "\n",
    "print(not(x > 3 and x < 10))\n",
    "\n",
    "# returns False bcoz not is used to reverse the result\n",
    "\n",
    "\n"
   ]
  },
  {
   "cell_type": "markdown",
   "id": "d496e7d3",
   "metadata": {},
   "source": [
    "# Python Membership Operators\n",
    "Membership operators  are used to test if a sequence is presented in an object:"
   ]
  },
  {
   "cell_type": "code",
   "execution_count": 9,
   "id": "967df287",
   "metadata": {},
   "outputs": [
    {
     "name": "stdout",
     "output_type": "stream",
     "text": [
      "True\n"
     ]
    }
   ],
   "source": [
    "x=[\"Prashant\", \"Arjun\", \"Akash\"]\n",
    "\n",
    "print(\"Prashant\" in x)  # Returns True bcoz a sequence with the value \"Prashant\" is in the list"
   ]
  },
  {
   "cell_type": "code",
   "execution_count": 7,
   "id": "8d4f1769",
   "metadata": {
    "scrolled": true
   },
   "outputs": [
    {
     "name": "stdout",
     "output_type": "stream",
     "text": [
      "True\n"
     ]
    }
   ],
   "source": [
    "x=[\"apple\", \"banana\"]\n",
    "\n",
    "print(\"pineapple\" not in x)  # Returns True bcoz a sequence with the value \"pineapple\" is not in the list"
   ]
  },
  {
   "cell_type": "markdown",
   "id": "148d39d9",
   "metadata": {},
   "source": [
    "# Python Identity Operator"
   ]
  },
  {
   "cell_type": "code",
   "execution_count": 10,
   "id": "78606e73",
   "metadata": {},
   "outputs": [
    {
     "name": "stdout",
     "output_type": "stream",
     "text": [
      "True\n",
      "False\n",
      "True\n"
     ]
    }
   ],
   "source": [
    "x=[\"apple\", \"banana\"]\n",
    "y=[\"apple\", \"banana\"]\n",
    "z= x\n",
    "\n",
    "print(x is z)  # is work for location wise\n",
    "\n",
    "print(x is y)\n",
    "\n",
    "print(x==y)  # work for apple & banana\n"
   ]
  },
  {
   "cell_type": "markdown",
   "id": "fa7f40df",
   "metadata": {},
   "source": [
    "# id() is the actual memory address of the variable"
   ]
  },
  {
   "cell_type": "code",
   "execution_count": 11,
   "id": "ace7a102",
   "metadata": {},
   "outputs": [
    {
     "name": "stdout",
     "output_type": "stream",
     "text": [
      "2489418034944\n",
      "2489418034944\n",
      "2489418039104\n"
     ]
    }
   ],
   "source": [
    "print(id(x))\n",
    "print(id(z))\n",
    "print(id(y))\n"
   ]
  }
 ],
 "metadata": {
  "kernelspec": {
   "display_name": "Python 3 (ipykernel)",
   "language": "python",
   "name": "python3"
  },
  "language_info": {
   "codemirror_mode": {
    "name": "ipython",
    "version": 3
   },
   "file_extension": ".py",
   "mimetype": "text/x-python",
   "name": "python",
   "nbconvert_exporter": "python",
   "pygments_lexer": "ipython3",
   "version": "3.9.12"
  }
 },
 "nbformat": 4,
 "nbformat_minor": 5
}
