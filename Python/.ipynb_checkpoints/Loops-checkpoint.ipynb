{
 "cells": [
  {
   "cell_type": "markdown",
   "id": "0c89bc2b",
   "metadata": {},
   "source": [
    "# The While Loop"
   ]
  },
  {
   "cell_type": "code",
   "execution_count": 1,
   "id": "8760495e",
   "metadata": {},
   "outputs": [
    {
     "name": "stdout",
     "output_type": "stream",
     "text": [
      "1\n",
      "2\n",
      "3\n",
      "4\n",
      "5\n",
      "6\n"
     ]
    }
   ],
   "source": [
    "i=1\n",
    "\n",
    "while i <=6:\n",
    "    print(i)\n",
    "    i=i+1"
   ]
  },
  {
   "cell_type": "markdown",
   "id": "3317bb8d",
   "metadata": {},
   "source": [
    "# Break Statement"
   ]
  },
  {
   "cell_type": "code",
   "execution_count": null,
   "id": "81e54d57",
   "metadata": {},
   "outputs": [],
   "source": [
    "i=1\n",
    "while i < 6:\n",
    "    print(i)\n",
    "    if i== 3:\n",
    "        break\n",
    "    i=i+1"
   ]
  },
  {
   "cell_type": "code",
   "execution_count": null,
   "id": "e65a7ef2",
   "metadata": {},
   "outputs": [],
   "source": [
    "var=10\n",
    "while var > 0:\n",
    "    print('Current variable value:', var)\n",
    "    var=var-1\n",
    "    if var ==6:\n",
    "        break\n",
    "    print(\"Good Bye!\")\n",
    "    "
   ]
  },
  {
   "cell_type": "markdown",
   "id": "11ea8b0d",
   "metadata": {},
   "source": [
    "# Continue Statement"
   ]
  },
  {
   "cell_type": "code",
   "execution_count": null,
   "id": "04a95120",
   "metadata": {},
   "outputs": [],
   "source": [
    "var=10\n",
    "while var > 0:\n",
    "    var=var-1\n",
    "    if var ==6:\n",
    "        continue\n",
    "    print('Current variable value:', var)\n",
    "    print(\"Good Bye!\")\n",
    "    "
   ]
  },
  {
   "cell_type": "markdown",
   "id": "611da41b",
   "metadata": {},
   "source": [
    "# The Else Statement"
   ]
  },
  {
   "cell_type": "code",
   "execution_count": null,
   "id": "ba25a329",
   "metadata": {},
   "outputs": [],
   "source": [
    "i=1\n",
    "\n",
    "while i <=6:\n",
    "    print(i)\n",
    "    i=i+1\n",
    "else:\n",
    "    print(\"i is no longer less than 6\")"
   ]
  },
  {
   "cell_type": "markdown",
   "id": "cb72fc27",
   "metadata": {},
   "source": [
    "# Python For Loops"
   ]
  },
  {
   "cell_type": "code",
   "execution_count": null,
   "id": "e572bc37",
   "metadata": {},
   "outputs": [],
   "source": [
    "fruits=[\"apple\",\"banana\",\"cherry\"]\n",
    "\n",
    "for x in fruits:\n",
    "    print(x)"
   ]
  },
  {
   "cell_type": "markdown",
   "id": "aed3b4e3",
   "metadata": {},
   "source": [
    "# Looping Through a String"
   ]
  },
  {
   "cell_type": "code",
   "execution_count": null,
   "id": "96239fa0",
   "metadata": {},
   "outputs": [],
   "source": [
    "for x in \"banana\":\n",
    "    print(x)"
   ]
  },
  {
   "cell_type": "markdown",
   "id": "d3b4c041",
   "metadata": {},
   "source": [
    "# Break Statement"
   ]
  },
  {
   "cell_type": "code",
   "execution_count": null,
   "id": "36fe6c09",
   "metadata": {},
   "outputs": [],
   "source": [
    "fruits=[\"apple\",\"banana\",\"cherry\"]\n",
    "for x in fruits:\n",
    "    print(x)\n",
    "    if x==\"banana\":\n",
    "        break"
   ]
  },
  {
   "cell_type": "code",
   "execution_count": null,
   "id": "5ceb3183",
   "metadata": {},
   "outputs": [],
   "source": [
    "fruits=[\"apple\",\"banana\",\"cherry\"]\n",
    "for x in fruits:\n",
    "    if x==\"banana\":\n",
    "        break\n",
    "    print(x)"
   ]
  },
  {
   "cell_type": "markdown",
   "id": "7e6af4df",
   "metadata": {},
   "source": [
    "#  The Continue Statement"
   ]
  },
  {
   "cell_type": "code",
   "execution_count": null,
   "id": "1fce2a42",
   "metadata": {},
   "outputs": [],
   "source": [
    "fruits=[\"apple\",\"banana\",\"cherry\"]\n",
    "for x in fruits:\n",
    "    if x==\"banana\":\n",
    "        continue\n",
    "    print(x)"
   ]
  },
  {
   "cell_type": "markdown",
   "id": "5b1d068f",
   "metadata": {},
   "source": [
    "# The Range() Function"
   ]
  },
  {
   "cell_type": "code",
   "execution_count": null,
   "id": "5950eae2",
   "metadata": {},
   "outputs": [],
   "source": [
    "for x in range(5):\n",
    "    print(x)"
   ]
  },
  {
   "cell_type": "code",
   "execution_count": null,
   "id": "8ee4961b",
   "metadata": {},
   "outputs": [],
   "source": []
  },
  {
   "cell_type": "code",
   "execution_count": null,
   "id": "ef624d62",
   "metadata": {},
   "outputs": [],
   "source": [
    "for x in range(2,6):\n",
    "    print(x)"
   ]
  },
  {
   "cell_type": "code",
   "execution_count": null,
   "id": "e1d7955a",
   "metadata": {},
   "outputs": [],
   "source": [
    "for x in range(0,30,3):\n",
    "    print(x)"
   ]
  },
  {
   "cell_type": "markdown",
   "id": "32019e13",
   "metadata": {},
   "source": [
    "# Else in for loop"
   ]
  },
  {
   "cell_type": "code",
   "execution_count": 2,
   "id": "7ae2d947",
   "metadata": {},
   "outputs": [
    {
     "name": "stdout",
     "output_type": "stream",
     "text": [
      "0\n",
      "1\n",
      "2\n",
      "3\n",
      "4\n",
      "5\n",
      "Finally Finished!\n"
     ]
    }
   ],
   "source": [
    "for x in range(6):\n",
    "    print(x)\n",
    "else:\n",
    "    print(\"Finally Finished!\")"
   ]
  },
  {
   "cell_type": "markdown",
   "id": "b88681a0",
   "metadata": {},
   "source": [
    "# Nested Loops"
   ]
  },
  {
   "cell_type": "code",
   "execution_count": 1,
   "id": "d63c1d89",
   "metadata": {},
   "outputs": [
    {
     "name": "stdout",
     "output_type": "stream",
     "text": [
      "Valid\n",
      "Invalid\n",
      "Invalid\n",
      "Valid\n",
      "Invalid\n",
      "Invalid\n",
      "Valid\n",
      "Invalid\n",
      "Invalid\n",
      "Outer Invalid\n"
     ]
    }
   ],
   "source": [
    "adj=[\"red\",\"big\",\"tasty\"]\n",
    "fruits=[\"apple\",\"banana\",\"cherry\"]\n",
    "\n",
    "for x in adj:\n",
    "    for y in fruits:\n",
    "        if y== 'apple':\n",
    "            print(\"Valid\")\n",
    "        else:\n",
    "            print(\"Invalid\")\n",
    "else:\n",
    "    print(\"Outer Invalid\")"
   ]
  },
  {
   "cell_type": "code",
   "execution_count": null,
   "id": "03fae9d6",
   "metadata": {},
   "outputs": [],
   "source": []
  },
  {
   "cell_type": "code",
   "execution_count": null,
   "id": "341517a9",
   "metadata": {},
   "outputs": [],
   "source": []
  }
 ],
 "metadata": {
  "kernelspec": {
   "display_name": "Python 3 (ipykernel)",
   "language": "python",
   "name": "python3"
  },
  "language_info": {
   "codemirror_mode": {
    "name": "ipython",
    "version": 3
   },
   "file_extension": ".py",
   "mimetype": "text/x-python",
   "name": "python",
   "nbconvert_exporter": "python",
   "pygments_lexer": "ipython3",
   "version": "3.9.12"
  }
 },
 "nbformat": 4,
 "nbformat_minor": 5
}
