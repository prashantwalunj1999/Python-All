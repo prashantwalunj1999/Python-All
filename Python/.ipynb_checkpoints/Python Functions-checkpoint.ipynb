{
 "cells": [
  {
   "cell_type": "markdown",
   "id": "69629616",
   "metadata": {},
   "source": [
    "# Agenda\n",
    "* Functions\n",
    "* Lambda"
   ]
  },
  {
   "cell_type": "markdown",
   "id": "cb9b614e",
   "metadata": {},
   "source": [
    "# Python Functions\n",
    "* A function is a block of code which only runs when it is called."
   ]
  },
  {
   "cell_type": "code",
   "execution_count": null,
   "id": "d18f747c",
   "metadata": {},
   "outputs": [],
   "source": []
  },
  {
   "cell_type": "markdown",
   "id": "d4fd870c",
   "metadata": {},
   "source": [
    "# Creating Function\n"
   ]
  },
  {
   "cell_type": "code",
   "execution_count": 14,
   "id": "d8e9ad48",
   "metadata": {},
   "outputs": [],
   "source": [
    "def abc():\n",
    "    print(\"Good Morning\")"
   ]
  },
  {
   "cell_type": "code",
   "execution_count": 15,
   "id": "cd38e7d2",
   "metadata": {},
   "outputs": [
    {
     "name": "stdout",
     "output_type": "stream",
     "text": [
      "Good Morning\n"
     ]
    }
   ],
   "source": [
    "abc()"
   ]
  },
  {
   "cell_type": "markdown",
   "id": "d741555b",
   "metadata": {},
   "source": [
    "# Calling a Function\n",
    "To call a function, use the function name followed by paranthesis:"
   ]
  },
  {
   "cell_type": "code",
   "execution_count": 10,
   "id": "709d0456",
   "metadata": {},
   "outputs": [],
   "source": [
    "def my_function():\n",
    "    print(\"Hello, from a function\")"
   ]
  },
  {
   "cell_type": "code",
   "execution_count": 11,
   "id": "e837a09f",
   "metadata": {},
   "outputs": [
    {
     "name": "stdout",
     "output_type": "stream",
     "text": [
      "Hello, from a function\n"
     ]
    }
   ],
   "source": [
    "my_function()"
   ]
  },
  {
   "cell_type": "markdown",
   "id": "153180ff",
   "metadata": {},
   "source": [
    "# Function Without Parameter"
   ]
  },
  {
   "cell_type": "code",
   "execution_count": 16,
   "id": "3ceec791",
   "metadata": {},
   "outputs": [],
   "source": [
    "def miss():\n",
    "    y='curd'\n",
    "    if y==\"curd\":\n",
    "        print(\"Here is your food\")\n",
    "    else:\n",
    "        print('invalid')"
   ]
  },
  {
   "cell_type": "code",
   "execution_count": 17,
   "id": "21c34d3f",
   "metadata": {},
   "outputs": [
    {
     "name": "stdout",
     "output_type": "stream",
     "text": [
      "Here is your food\n"
     ]
    }
   ],
   "source": [
    "miss()"
   ]
  },
  {
   "cell_type": "code",
   "execution_count": 18,
   "id": "32395eb3",
   "metadata": {},
   "outputs": [
    {
     "name": "stdout",
     "output_type": "stream",
     "text": [
      "food is missed\n"
     ]
    }
   ],
   "source": [
    "def miss():\n",
    "    print(\"food is missed\")\n",
    "    \n",
    "x=\"Rice\"   #variable\n",
    "if x==\"curd\":\n",
    "    print(\"here is your food\")\n",
    "else:\n",
    "    miss()"
   ]
  },
  {
   "cell_type": "markdown",
   "id": "15ed7ac0",
   "metadata": {},
   "source": [
    "# "
   ]
  },
  {
   "cell_type": "code",
   "execution_count": 1,
   "id": "1aebcf6e",
   "metadata": {},
   "outputs": [],
   "source": [
    "def abc(first_name):\n",
    "    print(first_name+ \" All good\"+\", Good Evening\")"
   ]
  },
  {
   "cell_type": "code",
   "execution_count": 2,
   "id": "6930fce0",
   "metadata": {},
   "outputs": [
    {
     "name": "stdout",
     "output_type": "stream",
     "text": [
      "Prashant All good, Good Evening\n"
     ]
    }
   ],
   "source": [
    "abc(\"Prashant\")"
   ]
  },
  {
   "cell_type": "code",
   "execution_count": 4,
   "id": "c37a9559",
   "metadata": {},
   "outputs": [],
   "source": [
    "def my_function(a,b):\n",
    "    total=a+b\n",
    "    sub=total/2\n",
    "    return (total,sub)"
   ]
  },
  {
   "cell_type": "code",
   "execution_count": 5,
   "id": "eb54469b",
   "metadata": {},
   "outputs": [
    {
     "data": {
      "text/plain": [
       "(10, 5.0)"
      ]
     },
     "execution_count": 5,
     "metadata": {},
     "output_type": "execute_result"
    }
   ],
   "source": [
    "my_function(7,3)"
   ]
  },
  {
   "cell_type": "code",
   "execution_count": 22,
   "id": "245e4944",
   "metadata": {},
   "outputs": [],
   "source": [
    "def Subtraction(a,b,c):\n",
    "    x=a-b-c\n",
    "    y=a+b+c\n",
    "    z=x+y\n",
    "    u=x-y\n",
    "    return u"
   ]
  },
  {
   "cell_type": "code",
   "execution_count": 23,
   "id": "07fa7d40",
   "metadata": {},
   "outputs": [
    {
     "data": {
      "text/plain": [
       "-40"
      ]
     },
     "execution_count": 23,
     "metadata": {},
     "output_type": "execute_result"
    }
   ],
   "source": [
    "Subtraction(10,10,10)"
   ]
  },
  {
   "cell_type": "code",
   "execution_count": 1,
   "id": "d4e7ead0",
   "metadata": {},
   "outputs": [],
   "source": [
    "def calculation_total(exp): # tom_list= exp =item\n",
    "    total=0  #500\n",
    "    for item in exp:  # iteration\n",
    "        total=total+item # updated total\n",
    "    return total"
   ]
  },
  {
   "cell_type": "code",
   "execution_count": 3,
   "id": "fc237490",
   "metadata": {},
   "outputs": [],
   "source": [
    "abc=[200,300,500]"
   ]
  },
  {
   "cell_type": "code",
   "execution_count": 4,
   "id": "4ec94990",
   "metadata": {},
   "outputs": [
    {
     "name": "stdout",
     "output_type": "stream",
     "text": [
      "1000\n"
     ]
    }
   ],
   "source": [
    "tom_total=calculation_total(abc)\n",
    "print(tom_total)"
   ]
  },
  {
   "cell_type": "markdown",
   "id": "c12432d8",
   "metadata": {},
   "source": [
    "# # In functions there are four parameters they are asfollows\n",
    "\n",
    "* 1.Required Arguments or positional\n",
    "* 2.Keyword Parameters\n",
    "* 3.Default parameters\n",
    "* 4.Collecting parameters"
   ]
  },
  {
   "cell_type": "markdown",
   "id": "2ccc2dcd",
   "metadata": {},
   "source": [
    "#  1.REQUIRED ARGUMENTS OR POSITIONAL PARAMETERS\n",
    "• The arguments or parameters which are in a positional format in a( parameters must be in a order)\n",
    "function is nothing but Positional Arguments or parameters. Parameters in function call will perfectly\n",
    "match with the function definition."
   ]
  },
  {
   "cell_type": "code",
   "execution_count": 24,
   "id": "1707308d",
   "metadata": {},
   "outputs": [],
   "source": [
    "def num(var1,var2,var3,var4):\n",
    "    output=var1*var2*var3*var4\n",
    "    return output"
   ]
  },
  {
   "cell_type": "code",
   "execution_count": 25,
   "id": "5fa3f714",
   "metadata": {},
   "outputs": [
    {
     "data": {
      "text/plain": [
       "24"
      ]
     },
     "execution_count": 25,
     "metadata": {},
     "output_type": "execute_result"
    }
   ],
   "source": [
    "num(2,3,2,2)"
   ]
  },
  {
   "cell_type": "markdown",
   "id": "7a42d7f8",
   "metadata": {},
   "source": [
    "# 2. Keyword Arguments\n",
    "* you can also send arguments"
   ]
  },
  {
   "cell_type": "code",
   "execution_count": 6,
   "id": "6ee7febf",
   "metadata": {},
   "outputs": [],
   "source": [
    "def my_function(child3,child2,child1):\n",
    "    print(\"The youngest child is \" + child2)"
   ]
  },
  {
   "cell_type": "code",
   "execution_count": 7,
   "id": "fe8bd1c9",
   "metadata": {},
   "outputs": [
    {
     "name": "stdout",
     "output_type": "stream",
     "text": [
      "The youngest child is Anil\n"
     ]
    }
   ],
   "source": [
    "my_function(child1=\"Hitesh\", child2=\"Anil\", child3=\"Nikita\")"
   ]
  },
  {
   "cell_type": "code",
   "execution_count": 8,
   "id": "7227fba2",
   "metadata": {},
   "outputs": [
    {
     "name": "stdout",
     "output_type": "stream",
     "text": [
      "The youngest child is Hitesh\n"
     ]
    }
   ],
   "source": [
    "my_function(child2 = \"Hitesh\", child1 = \"Anil\",child3 = \"Nikitha\")"
   ]
  },
  {
   "cell_type": "markdown",
   "id": "a7de92f4",
   "metadata": {},
   "source": [
    "# 3. Default Parameter Value\n"
   ]
  },
  {
   "cell_type": "code",
   "execution_count": 36,
   "id": "a805206d",
   "metadata": {},
   "outputs": [],
   "source": [
    "def my_function(country= \"Norway\"):\n",
    "    print(\"I am from \"+ country)"
   ]
  },
  {
   "cell_type": "code",
   "execution_count": 37,
   "id": "8d316d21",
   "metadata": {},
   "outputs": [
    {
     "name": "stdout",
     "output_type": "stream",
     "text": [
      "I am from Norway\n"
     ]
    }
   ],
   "source": [
    "my_function()"
   ]
  },
  {
   "cell_type": "code",
   "execution_count": 38,
   "id": "007d5aa2",
   "metadata": {},
   "outputs": [
    {
     "name": "stdout",
     "output_type": "stream",
     "text": [
      "I am from India\n"
     ]
    }
   ],
   "source": [
    "my_function(\"India\")"
   ]
  },
  {
   "cell_type": "code",
   "execution_count": 39,
   "id": "e33c6e6a",
   "metadata": {},
   "outputs": [],
   "source": [
    "def salary_hra(x,hra=4):\n",
    "    output=x*(hra/100)\n",
    "    return output"
   ]
  },
  {
   "cell_type": "code",
   "execution_count": 40,
   "id": "0961fdf8",
   "metadata": {},
   "outputs": [
    {
     "data": {
      "text/plain": [
       "400.0"
      ]
     },
     "execution_count": 40,
     "metadata": {},
     "output_type": "execute_result"
    }
   ],
   "source": [
    "salary_hra(10000)"
   ]
  },
  {
   "cell_type": "code",
   "execution_count": 41,
   "id": "c90a8a90",
   "metadata": {},
   "outputs": [
    {
     "data": {
      "text/plain": [
       "600.0"
      ]
     },
     "execution_count": 41,
     "metadata": {},
     "output_type": "execute_result"
    }
   ],
   "source": [
    "salary_hra(10000,6)"
   ]
  },
  {
   "cell_type": "markdown",
   "id": "ed5c369f",
   "metadata": {},
   "source": [
    "# Passing a List as a Parameter"
   ]
  },
  {
   "cell_type": "code",
   "execution_count": 3,
   "id": "29c2ad87",
   "metadata": {},
   "outputs": [],
   "source": [
    "def my_function(food):\n",
    "    for x in food:\n",
    "        print(x)"
   ]
  },
  {
   "cell_type": "code",
   "execution_count": 4,
   "id": "44ef76c2",
   "metadata": {},
   "outputs": [
    {
     "data": {
      "text/plain": [
       "['apple', 'banana', 'cherry']"
      ]
     },
     "execution_count": 4,
     "metadata": {},
     "output_type": "execute_result"
    }
   ],
   "source": [
    "fruits=[\"apple\",\"banana\",\"cherry\"]\n",
    "fruits"
   ]
  },
  {
   "cell_type": "code",
   "execution_count": 5,
   "id": "c0b72949",
   "metadata": {},
   "outputs": [
    {
     "name": "stdout",
     "output_type": "stream",
     "text": [
      "apple\n",
      "banana\n",
      "cherry\n"
     ]
    }
   ],
   "source": [
    "my_function(fruits)"
   ]
  },
  {
   "cell_type": "markdown",
   "id": "7a8fc1b8",
   "metadata": {},
   "source": [
    "# Return Values"
   ]
  },
  {
   "cell_type": "code",
   "execution_count": 49,
   "id": "d43b8d68",
   "metadata": {},
   "outputs": [
    {
     "name": "stdout",
     "output_type": "stream",
     "text": [
      "-2\n",
      "4\n"
     ]
    }
   ],
   "source": [
    "def absolute_value(num):\n",
    "    if num >=3:\n",
    "        return num\n",
    "    else:\n",
    "        return -num\n",
    "    \n",
    "print(absolute_value(2))\n",
    "\n",
    "print(absolute_value(4))"
   ]
  },
  {
   "cell_type": "markdown",
   "id": "6d28d16c",
   "metadata": {},
   "source": [
    "# 4. Collecting Parameter Or Arbitary Arguments"
   ]
  },
  {
   "cell_type": "code",
   "execution_count": 53,
   "id": "cd6c9f32",
   "metadata": {},
   "outputs": [],
   "source": [
    "def my_function(*kids):\n",
    "    print(\"The youngest child is \"+ kids[1])"
   ]
  },
  {
   "cell_type": "code",
   "execution_count": 54,
   "id": "f3639abe",
   "metadata": {},
   "outputs": [
    {
     "name": "stdout",
     "output_type": "stream",
     "text": [
      "The youngest child is Prashant\n"
     ]
    }
   ],
   "source": [
    "my_function(\"Hitesh\",\"Prashant\",\"Arjun\",\"Pranav\",\"Suraj\")"
   ]
  },
  {
   "cell_type": "code",
   "execution_count": null,
   "id": "10084f82",
   "metadata": {},
   "outputs": [],
   "source": []
  },
  {
   "cell_type": "code",
   "execution_count": null,
   "id": "feab749f",
   "metadata": {},
   "outputs": [],
   "source": []
  },
  {
   "cell_type": "code",
   "execution_count": null,
   "id": "eb39b026",
   "metadata": {},
   "outputs": [],
   "source": []
  },
  {
   "cell_type": "code",
   "execution_count": null,
   "id": "28655bc9",
   "metadata": {},
   "outputs": [],
   "source": []
  },
  {
   "cell_type": "code",
   "execution_count": null,
   "id": "5149537c",
   "metadata": {},
   "outputs": [],
   "source": []
  },
  {
   "cell_type": "code",
   "execution_count": null,
   "id": "6d9d3181",
   "metadata": {},
   "outputs": [],
   "source": []
  },
  {
   "cell_type": "code",
   "execution_count": null,
   "id": "b3815fe2",
   "metadata": {},
   "outputs": [],
   "source": []
  }
 ],
 "metadata": {
  "kernelspec": {
   "display_name": "Python 3 (ipykernel)",
   "language": "python",
   "name": "python3"
  },
  "language_info": {
   "codemirror_mode": {
    "name": "ipython",
    "version": 3
   },
   "file_extension": ".py",
   "mimetype": "text/x-python",
   "name": "python",
   "nbconvert_exporter": "python",
   "pygments_lexer": "ipython3",
   "version": "3.9.12"
  }
 },
 "nbformat": 4,
 "nbformat_minor": 5
}
