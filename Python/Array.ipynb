{
 "cells": [
  {
   "cell_type": "markdown",
   "id": "063d4f84",
   "metadata": {},
   "source": [
    "# List"
   ]
  },
  {
   "cell_type": "code",
   "execution_count": 1,
   "id": "ff6e233e",
   "metadata": {},
   "outputs": [
    {
     "name": "stdout",
     "output_type": "stream",
     "text": [
      "['apple', 'banana', 'cherry']\n"
     ]
    }
   ],
   "source": [
    "thislist=[\"apple\", \"banana\", \"cherry\"]\n",
    "print(thislist)"
   ]
  },
  {
   "cell_type": "markdown",
   "id": "a801790c",
   "metadata": {},
   "source": [
    "# Access Items"
   ]
  },
  {
   "cell_type": "code",
   "execution_count": 2,
   "id": "2db987f5",
   "metadata": {},
   "outputs": [
    {
     "name": "stdout",
     "output_type": "stream",
     "text": [
      "banana\n"
     ]
    }
   ],
   "source": [
    "thislist=[\"apple\",\"banana\", \"cherry\"]  \n",
    "print(thislist[1])   #subset  []  is index"
   ]
  },
  {
   "cell_type": "markdown",
   "id": "ab98d2ba",
   "metadata": {},
   "source": [
    "# Change Item Value"
   ]
  },
  {
   "cell_type": "code",
   "execution_count": 3,
   "id": "c202f639",
   "metadata": {},
   "outputs": [
    {
     "name": "stdout",
     "output_type": "stream",
     "text": [
      "['apple', 'banana', 'orange']\n"
     ]
    }
   ],
   "source": [
    "thislist=[\"apple\", \"banana\", \"cherry\"]\n",
    "thislist[2]= \"orange\"\n",
    "print(thislist)"
   ]
  },
  {
   "cell_type": "markdown",
   "id": "c5b58bc9",
   "metadata": {},
   "source": [
    "# List Length"
   ]
  },
  {
   "cell_type": "code",
   "execution_count": 4,
   "id": "b2c80d05",
   "metadata": {},
   "outputs": [
    {
     "name": "stdout",
     "output_type": "stream",
     "text": [
      "4\n"
     ]
    }
   ],
   "source": [
    "thislist=[\"apple\", \"banana\", \"cherry\", \"banana\"]\n",
    "print(len(thislist))"
   ]
  },
  {
   "cell_type": "markdown",
   "id": "e24067f3",
   "metadata": {},
   "source": [
    "# Add Items "
   ]
  },
  {
   "cell_type": "code",
   "execution_count": 5,
   "id": "39dc1355",
   "metadata": {},
   "outputs": [
    {
     "name": "stdout",
     "output_type": "stream",
     "text": [
      "['apple', 'banana', 'cherry', 'orange']\n"
     ]
    }
   ],
   "source": [
    "thislist=[\"apple\", \"banana\", \"cherry\"]\n",
    "thislist.append(\"orange\")\n",
    "print(thislist)"
   ]
  },
  {
   "cell_type": "markdown",
   "id": "f6d70b5a",
   "metadata": {},
   "source": [
    "* To add an item at the specified index, use the insert() method:"
   ]
  },
  {
   "cell_type": "code",
   "execution_count": 9,
   "id": "40dc2fd4",
   "metadata": {},
   "outputs": [
    {
     "name": "stdout",
     "output_type": "stream",
     "text": [
      "['orange', 'apple', 'banana', 'cherry']\n"
     ]
    }
   ],
   "source": [
    "thislist=[\"apple\", \"banana\", \"cherry\"]\n",
    "thislist.insert(0,\"orange\")\n",
    "print(thislist)"
   ]
  },
  {
   "cell_type": "markdown",
   "id": "68efd224",
   "metadata": {},
   "source": [
    "# Remove Item\n",
    " * The pop() method removes the specified index, (or)"
   ]
  },
  {
   "cell_type": "code",
   "execution_count": 10,
   "id": "25151b95",
   "metadata": {},
   "outputs": [
    {
     "name": "stdout",
     "output_type": "stream",
     "text": [
      "['apple', 'banana']\n"
     ]
    }
   ],
   "source": [
    "thislist=[\"apple\", \"banana\", \"cherry\"]\n",
    "thislist.pop()   # last or index\n",
    "print(thislist)"
   ]
  },
  {
   "cell_type": "markdown",
   "id": "0bd685b6",
   "metadata": {},
   "source": [
    "# * The del key"
   ]
  },
  {
   "cell_type": "code",
   "execution_count": 11,
   "id": "6970d496",
   "metadata": {
    "scrolled": true
   },
   "outputs": [
    {
     "name": "stdout",
     "output_type": "stream",
     "text": [
      "['banana', 'cherry']\n"
     ]
    }
   ],
   "source": [
    "thislist=[\"apple\", \"banana\", \"cherry\"]\n",
    "del thislist[0]  # def / del\n",
    "print(thislist)"
   ]
  },
  {
   "cell_type": "code",
   "execution_count": 12,
   "id": "eeee287f",
   "metadata": {
    "scrolled": true
   },
   "outputs": [
    {
     "ename": "NameError",
     "evalue": "name 'thislist' is not defined",
     "output_type": "error",
     "traceback": [
      "\u001b[1;31m---------------------------------------------------------------------------\u001b[0m",
      "\u001b[1;31mNameError\u001b[0m                                 Traceback (most recent call last)",
      "Input \u001b[1;32mIn [12]\u001b[0m, in \u001b[0;36m<cell line: 4>\u001b[1;34m()\u001b[0m\n\u001b[0;32m      2\u001b[0m thislist\u001b[38;5;241m=\u001b[39m[\u001b[38;5;124m\"\u001b[39m\u001b[38;5;124mapple\u001b[39m\u001b[38;5;124m\"\u001b[39m, \u001b[38;5;124m\"\u001b[39m\u001b[38;5;124mbanana\u001b[39m\u001b[38;5;124m\"\u001b[39m, \u001b[38;5;124m\"\u001b[39m\u001b[38;5;124mcherry\u001b[39m\u001b[38;5;124m\"\u001b[39m]\n\u001b[0;32m      3\u001b[0m \u001b[38;5;28;01mdel\u001b[39;00m thislist\n\u001b[1;32m----> 4\u001b[0m \u001b[38;5;28mprint\u001b[39m(\u001b[43mthislist\u001b[49m)\n",
      "\u001b[1;31mNameError\u001b[0m: name 'thislist' is not defined"
     ]
    }
   ],
   "source": [
    "# The del keyword can also delete the list completely:\n",
    "thislist=[\"apple\", \"banana\", \"cherry\"]\n",
    "del thislist\n",
    "print(thislist)"
   ]
  },
  {
   "cell_type": "markdown",
   "id": "5e8320f7",
   "metadata": {},
   "source": [
    "# * the clear"
   ]
  },
  {
   "cell_type": "code",
   "execution_count": 13,
   "id": "42fdc977",
   "metadata": {},
   "outputs": [
    {
     "name": "stdout",
     "output_type": "stream",
     "text": [
      "[]\n"
     ]
    }
   ],
   "source": [
    "thislist=[\"apple\", \"banana\", \"cherry\"]\n",
    "thislist.clear()\n",
    "print(thislist)"
   ]
  },
  {
   "cell_type": "markdown",
   "id": "49869e70",
   "metadata": {},
   "source": [
    "# Make a copy of a list with the copy() method:"
   ]
  },
  {
   "cell_type": "code",
   "execution_count": 14,
   "id": "7231a6a6",
   "metadata": {},
   "outputs": [
    {
     "name": "stdout",
     "output_type": "stream",
     "text": [
      "['apple', 'banana', 'cherry']\n"
     ]
    }
   ],
   "source": [
    "thislist=[\"apple\", \"banana\", \"cherry\"]\n",
    "mylist=thislist  # make connection\n",
    "print(mylist)"
   ]
  },
  {
   "cell_type": "code",
   "execution_count": 15,
   "id": "1f8246b6",
   "metadata": {},
   "outputs": [
    {
     "name": "stdout",
     "output_type": "stream",
     "text": [
      "[]\n"
     ]
    }
   ],
   "source": [
    "thislist.clear()\n",
    "print(thislist)"
   ]
  },
  {
   "cell_type": "code",
   "execution_count": 16,
   "id": "bb70f8a2",
   "metadata": {},
   "outputs": [
    {
     "name": "stdout",
     "output_type": "stream",
     "text": [
      "[]\n"
     ]
    }
   ],
   "source": [
    "print(mylist)"
   ]
  },
  {
   "cell_type": "code",
   "execution_count": 17,
   "id": "f9e93990",
   "metadata": {},
   "outputs": [],
   "source": [
    "thislist=[\"apple\", \"banana\", \"cherry\"]\n",
    "mylist=thislist.copy()  # use break connection"
   ]
  },
  {
   "cell_type": "code",
   "execution_count": 18,
   "id": "019b45b0",
   "metadata": {},
   "outputs": [
    {
     "name": "stdout",
     "output_type": "stream",
     "text": [
      "[]\n"
     ]
    }
   ],
   "source": [
    "thislist.clear()\n",
    "print(thislist)"
   ]
  },
  {
   "cell_type": "markdown",
   "id": "de4efce1",
   "metadata": {},
   "source": [
    "# Count"
   ]
  },
  {
   "cell_type": "code",
   "execution_count": 19,
   "id": "8cb5cd31",
   "metadata": {},
   "outputs": [
    {
     "data": {
      "text/plain": [
       "2"
      ]
     },
     "execution_count": 19,
     "metadata": {},
     "output_type": "execute_result"
    }
   ],
   "source": [
    "fruits=['apple','banana', 'cherry', 'cherry']\n",
    "x=fruits.count(\"cherry\")\n",
    "x"
   ]
  },
  {
   "cell_type": "markdown",
   "id": "e590800d",
   "metadata": {},
   "source": [
    "# Sorting data "
   ]
  },
  {
   "cell_type": "raw",
   "id": "ac95b1a4",
   "metadata": {},
   "source": [
    "cars=['Ford', 'BMW', 'Volvo']\n",
    "  # by default is ascending order\n",
    "  cars.sort()\n",
    "  cars"
   ]
  },
  {
   "cell_type": "code",
   "execution_count": 20,
   "id": "5e65b969",
   "metadata": {},
   "outputs": [
    {
     "ename": "NameError",
     "evalue": "name 'cars' is not defined",
     "output_type": "error",
     "traceback": [
      "\u001b[1;31m---------------------------------------------------------------------------\u001b[0m",
      "\u001b[1;31mNameError\u001b[0m                                 Traceback (most recent call last)",
      "Input \u001b[1;32mIn [20]\u001b[0m, in \u001b[0;36m<cell line: 2>\u001b[1;34m()\u001b[0m\n\u001b[0;32m      1\u001b[0m \u001b[38;5;66;03m# reverse means descending order\u001b[39;00m\n\u001b[1;32m----> 2\u001b[0m \u001b[43mcars\u001b[49m\u001b[38;5;241m.\u001b[39msort(reverse\u001b[38;5;241m=\u001b[39m\u001b[38;5;28;01mTrue\u001b[39;00m)\n\u001b[0;32m      4\u001b[0m cars\n",
      "\u001b[1;31mNameError\u001b[0m: name 'cars' is not defined"
     ]
    }
   ],
   "source": [
    "# reverse means descending order\n",
    "cars.sort(reverse=True)\n",
    "\n",
    "cars"
   ]
  },
  {
   "cell_type": "markdown",
   "id": "b035d135",
   "metadata": {},
   "source": [
    "# Tuple "
   ]
  },
  {
   "cell_type": "code",
   "execution_count": 21,
   "id": "0c088d2d",
   "metadata": {},
   "outputs": [
    {
     "name": "stdout",
     "output_type": "stream",
     "text": [
      "('apple', 'banana', 'cherry')\n"
     ]
    }
   ],
   "source": [
    "thistuple=(\"apple\", \"banana\", \"cherry\")\n",
    "print(thistuple)"
   ]
  },
  {
   "cell_type": "code",
   "execution_count": 22,
   "id": "c19431e7",
   "metadata": {},
   "outputs": [
    {
     "name": "stdout",
     "output_type": "stream",
     "text": [
      "cherry\n"
     ]
    }
   ],
   "source": [
    "thistuple=(\"apple\", \"banana\", \"cherry\")\n",
    "print(thistuple[2])"
   ]
  },
  {
   "cell_type": "markdown",
   "id": "95862e6c",
   "metadata": {},
   "source": [
    "# Change Tuple Values\n",
    "* Once a tuple is created , you cannot chenges its values. "
   ]
  },
  {
   "cell_type": "code",
   "execution_count": 23,
   "id": "03cc4427",
   "metadata": {},
   "outputs": [
    {
     "ename": "TypeError",
     "evalue": "'tuple' object does not support item assignment",
     "output_type": "error",
     "traceback": [
      "\u001b[1;31m---------------------------------------------------------------------------\u001b[0m",
      "\u001b[1;31mTypeError\u001b[0m                                 Traceback (most recent call last)",
      "Input \u001b[1;32mIn [23]\u001b[0m, in \u001b[0;36m<cell line: 2>\u001b[1;34m()\u001b[0m\n\u001b[0;32m      1\u001b[0m thistuple\u001b[38;5;241m=\u001b[39m(\u001b[38;5;124m\"\u001b[39m\u001b[38;5;124mapple\u001b[39m\u001b[38;5;124m\"\u001b[39m, \u001b[38;5;124m\"\u001b[39m\u001b[38;5;124mbanana\u001b[39m\u001b[38;5;124m\"\u001b[39m, \u001b[38;5;124m\"\u001b[39m\u001b[38;5;124mcherry\u001b[39m\u001b[38;5;124m\"\u001b[39m)\n\u001b[1;32m----> 2\u001b[0m thistuple[\u001b[38;5;241m2\u001b[39m]\u001b[38;5;241m=\u001b[39m \u001b[38;5;124m\"\u001b[39m\u001b[38;5;124morange\u001b[39m\u001b[38;5;124m\"\u001b[39m\n",
      "\u001b[1;31mTypeError\u001b[0m: 'tuple' object does not support item assignment"
     ]
    }
   ],
   "source": [
    "thistuple=(\"apple\", \"banana\", \"cherry\")\n",
    "thistuple[2]= \"orange\" # This will raise an error"
   ]
  },
  {
   "cell_type": "markdown",
   "id": "e7e693a9",
   "metadata": {},
   "source": [
    "# Remove Items"
   ]
  },
  {
   "cell_type": "code",
   "execution_count": 24,
   "id": "e9bc34b6",
   "metadata": {},
   "outputs": [
    {
     "ename": "TypeError",
     "evalue": "'tuple' object doesn't support item deletion",
     "output_type": "error",
     "traceback": [
      "\u001b[1;31m---------------------------------------------------------------------------\u001b[0m",
      "\u001b[1;31mTypeError\u001b[0m                                 Traceback (most recent call last)",
      "Input \u001b[1;32mIn [24]\u001b[0m, in \u001b[0;36m<cell line: 2>\u001b[1;34m()\u001b[0m\n\u001b[0;32m      1\u001b[0m thistuple\u001b[38;5;241m=\u001b[39m(\u001b[38;5;124m\"\u001b[39m\u001b[38;5;124mapple\u001b[39m\u001b[38;5;124m\"\u001b[39m, \u001b[38;5;124m\"\u001b[39m\u001b[38;5;124mbanana\u001b[39m\u001b[38;5;124m\"\u001b[39m, \u001b[38;5;124m\"\u001b[39m\u001b[38;5;124mcherry\u001b[39m\u001b[38;5;124m\"\u001b[39m)\n\u001b[1;32m----> 2\u001b[0m \u001b[38;5;28;01mdel\u001b[39;00m thistuple[\u001b[38;5;241m1\u001b[39m]\n\u001b[0;32m      3\u001b[0m \u001b[38;5;28mprint\u001b[39m(thistuple)\n",
      "\u001b[1;31mTypeError\u001b[0m: 'tuple' object doesn't support item deletion"
     ]
    }
   ],
   "source": [
    "thistuple=(\"apple\", \"banana\", \"cherry\")\n",
    "del thistuple[1]\n",
    "print(thistuple) # this will raise an error bcoz the tuple no longer exits"
   ]
  },
  {
   "cell_type": "markdown",
   "id": "8863f9a1",
   "metadata": {},
   "source": [
    "# Tuple Count()"
   ]
  },
  {
   "cell_type": "code",
   "execution_count": 25,
   "id": "85bfe2f1",
   "metadata": {},
   "outputs": [
    {
     "name": "stdout",
     "output_type": "stream",
     "text": [
      "2\n"
     ]
    }
   ],
   "source": [
    "thistuple=(1,3,7,8,7,5,4,6,8,5)\n",
    "\n",
    "x=thistuple.count(5)\n",
    "print(x)"
   ]
  },
  {
   "cell_type": "markdown",
   "id": "fafe2700",
   "metadata": {},
   "source": [
    "# Set "
   ]
  },
  {
   "cell_type": "code",
   "execution_count": 26,
   "id": "63efea26",
   "metadata": {},
   "outputs": [
    {
     "name": "stdout",
     "output_type": "stream",
     "text": [
      "{'aaple', 'banana', 'cherry', 'orange'}\n"
     ]
    }
   ],
   "source": [
    "thisset={\"aaple\", \"banana\", \"cherry\"}\n",
    "\n",
    "thisset.add(\"orange\")  # one keyword\n",
    "\n",
    "print(thisset)"
   ]
  },
  {
   "cell_type": "code",
   "execution_count": 27,
   "id": "3f3bbea4",
   "metadata": {},
   "outputs": [
    {
     "name": "stdout",
     "output_type": "stream",
     "text": [
      "{'banana', 'cherry', 'orange', 'grapes', 'mango', 'aaple'}\n"
     ]
    }
   ],
   "source": [
    "thisset={\"aaple\", \"banana\", \"cherry\"}\n",
    "\n",
    "thisset.update([\"orange\", \"mango\", \"grapes\"])  # multiple\n",
    "\n",
    "print(thisset)"
   ]
  },
  {
   "cell_type": "markdown",
   "id": "17d39ad3",
   "metadata": {},
   "source": [
    "# Remove Item "
   ]
  },
  {
   "cell_type": "code",
   "execution_count": 28,
   "id": "7fa2eff3",
   "metadata": {},
   "outputs": [
    {
     "name": "stdout",
     "output_type": "stream",
     "text": [
      "{'aaple', 'cherry'}\n"
     ]
    }
   ],
   "source": [
    "thisset={\"aaple\", \"banana\", \"cherry\", \"banana\"}\n",
    "\n",
    "thisset.remove(\"banana\")\n",
    "\n",
    "print(thisset)  # if the item to"
   ]
  },
  {
   "cell_type": "code",
   "execution_count": 29,
   "id": "4e2dec0c",
   "metadata": {},
   "outputs": [
    {
     "name": "stdout",
     "output_type": "stream",
     "text": [
      "{'aaple', 'banana', 'cherry'}\n"
     ]
    }
   ],
   "source": [
    "thisset={\"aaple\", \"banana\", \"cherry\"}\n",
    "\n",
    "thisset.discard(\"bananas\")\n",
    "\n",
    "print(thisset)  # if the item to remove does not exist, discard() will NOT raise an error"
   ]
  },
  {
   "cell_type": "code",
   "execution_count": 30,
   "id": "e5b7fd58",
   "metadata": {},
   "outputs": [
    {
     "name": "stdout",
     "output_type": "stream",
     "text": [
      "aaple\n",
      "{'banana', 'cherry'}\n"
     ]
    }
   ],
   "source": [
    "thisset={\"aaple\", \"banana\", \"cherry\"}\n",
    "\n",
    "x=thisset.pop()   # Sets are unorderd,...\n",
    "\n",
    "print(x)\n",
    "\n",
    "print(thisset)\n"
   ]
  },
  {
   "cell_type": "markdown",
   "id": "73108904",
   "metadata": {},
   "source": [
    "# Dictionary "
   ]
  },
  {
   "cell_type": "code",
   "execution_count": 33,
   "id": "85a02ce3",
   "metadata": {},
   "outputs": [
    {
     "ename": "IndentationError",
     "evalue": "unexpected indent (3297651155.py, line 3)",
     "output_type": "error",
     "traceback": [
      "\u001b[1;36m  Input \u001b[1;32mIn [33]\u001b[1;36m\u001b[0m\n\u001b[1;33m    thisdict={\u001b[0m\n\u001b[1;37m    ^\u001b[0m\n\u001b[1;31mIndentationError\u001b[0m\u001b[1;31m:\u001b[0m unexpected indent\n"
     ]
    }
   ],
   "source": [
    " # thisdict= {\"Key\":\"Value\"}\n",
    "    \n",
    "    thisdict={\n",
    "        \"brand\":\"Ford\", #column 1\n",
    "        \"model\":\"Mustang\", # column\n",
    "        \"year\":1964  # column\n",
    "    }\n",
    "    \n",
    "    print(thisdict)"
   ]
  },
  {
   "cell_type": "markdown",
   "id": "65302530",
   "metadata": {},
   "source": [
    "# Change Values "
   ]
  },
  {
   "cell_type": "code",
   "execution_count": 32,
   "id": "82fd95b8",
   "metadata": {},
   "outputs": [
    {
     "name": "stdout",
     "output_type": "stream",
     "text": [
      "{'brand': 'Ford', 'model': 'Mustang', 'year': 2022}\n"
     ]
    }
   ],
   "source": [
    "thisdict={\n",
    "        \"brand\":\"Ford\", #column 1\n",
    "        \"model\":\"Mustang\", # column\n",
    "        \"year\":1964  # column\n",
    "    }\n",
    "\n",
    "thisdict[\"year\"]= 2022\n",
    "\n",
    "print(thisdict)"
   ]
  },
  {
   "cell_type": "markdown",
   "id": "9ed26e0c",
   "metadata": {},
   "source": [
    "# Adding Items"
   ]
  },
  {
   "cell_type": "code",
   "execution_count": 34,
   "id": "033be431",
   "metadata": {},
   "outputs": [
    {
     "name": "stdout",
     "output_type": "stream",
     "text": [
      "{'brand': 'Ford', 'model': 'Mustang', 'year': 1964, 'color': 'red'}\n"
     ]
    }
   ],
   "source": [
    "thisdict={\n",
    "        \"brand\":\"Ford\", #column 1\n",
    "        \"model\":\"Mustang\", # column\n",
    "        \"year\":1964  # column\n",
    "    }\n",
    "thisdict[\"color\"] =\"red\"\n",
    "\n",
    "print(thisdict)"
   ]
  },
  {
   "cell_type": "markdown",
   "id": "17abc058",
   "metadata": {},
   "source": [
    "# Removing Items \n",
    "* There are several methods to remove items from a dictionary:"
   ]
  },
  {
   "cell_type": "code",
   "execution_count": 35,
   "id": "4d837127",
   "metadata": {},
   "outputs": [
    {
     "name": "stdout",
     "output_type": "stream",
     "text": [
      "{'model': 'Mustang', 'year': 1964}\n"
     ]
    }
   ],
   "source": [
    "thisdict={\n",
    "        \"brand\":\"Ford\", #column 1\n",
    "        \"model\":\"Mustang\", # column\n",
    "        \"year\":1964  # column\n",
    "    }\n",
    "\n",
    "thisdict.pop(\"brand\")\n",
    "\n",
    "print(thisdict)"
   ]
  },
  {
   "cell_type": "code",
   "execution_count": null,
   "id": "f8d05780",
   "metadata": {},
   "outputs": [],
   "source": []
  }
 ],
 "metadata": {
  "kernelspec": {
   "display_name": "Python 3 (ipykernel)",
   "language": "python",
   "name": "python3"
  },
  "language_info": {
   "codemirror_mode": {
    "name": "ipython",
    "version": 3
   },
   "file_extension": ".py",
   "mimetype": "text/x-python",
   "name": "python",
   "nbconvert_exporter": "python",
   "pygments_lexer": "ipython3",
   "version": "3.9.12"
  }
 },
 "nbformat": 4,
 "nbformat_minor": 5
}
