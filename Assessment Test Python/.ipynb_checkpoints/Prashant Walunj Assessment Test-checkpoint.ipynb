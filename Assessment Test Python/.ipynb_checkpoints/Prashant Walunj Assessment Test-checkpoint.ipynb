{
 "cells": [
  {
   "cell_type": "markdown",
   "id": "22e619a3",
   "metadata": {},
   "source": [
    "# Q.1"
   ]
  },
  {
   "cell_type": "code",
   "execution_count": 27,
   "id": "4cafdc12",
   "metadata": {
    "scrolled": true
   },
   "outputs": [
    {
     "name": "stdout",
     "output_type": "stream",
     "text": [
      "[2, 3, 5, 7, 11, 13, 17, 19, 23, 29, 31, 37, 41, 43, 47, 53, 59, 61, 67, 71, 73, 79, 83, 89, 97]\n"
     ]
    }
   ],
   "source": [
    "consonants=[p for i in range(2, 8) for p in range(i*2,100,i)]\n",
    "prime=[k for k in range(2,100) if k not in consonants] \n",
    "print(prime)"
   ]
  },
  {
   "cell_type": "code",
   "execution_count": 23,
   "id": "78694e97",
   "metadata": {
    "scrolled": true
   },
   "outputs": [
    {
     "name": "stdout",
     "output_type": "stream",
     "text": [
      "Prime numbers between 2 and 100 are:\n",
      "2\n",
      "3\n",
      "5\n",
      "7\n",
      "11\n",
      "13\n",
      "17\n",
      "19\n",
      "23\n",
      "29\n",
      "31\n",
      "37\n",
      "41\n",
      "43\n",
      "47\n",
      "53\n",
      "59\n",
      "61\n",
      "67\n",
      "71\n",
      "73\n",
      "79\n",
      "83\n",
      "89\n",
      "97\n"
     ]
    }
   ],
   "source": [
    "lower=2\n",
    "upper=100\n",
    "print(\"Prime numbers between\",lower,\"and\",upper,\"are:\")\n",
    "for num in range(lower,upper+1):\n",
    "    if num > 1 :\n",
    "        for i in range(2,num):\n",
    "            if (num % i)==0:\n",
    "                break\n",
    "        else:\n",
    "                print(num)"
   ]
  },
  {
   "cell_type": "markdown",
   "id": "7fe36e33",
   "metadata": {},
   "source": [
    "# Q.2"
   ]
  },
  {
   "cell_type": "code",
   "execution_count": 3,
   "id": "1fba5c3e",
   "metadata": {},
   "outputs": [
    {
     "name": "stdout",
     "output_type": "stream",
     "text": [
      "jnulaW nabaB tnahsarP\n"
     ]
    }
   ],
   "source": [
    "def reverse(string):\n",
    "    str=\"\"\n",
    "    for i in string:\n",
    "        str = i+str\n",
    "    print(str)\n",
    "string = \"Prashant Baban Walunj\"\n",
    "reverse(string)"
   ]
  },
  {
   "cell_type": "code",
   "execution_count": 4,
   "id": "9d1a5f86",
   "metadata": {},
   "outputs": [
    {
     "name": "stdout",
     "output_type": "stream",
     "text": [
      "jnulaW nabaB tnahsarP\n"
     ]
    }
   ],
   "source": [
    "str=\"Prashant Baban Walunj\"\n",
    "p=str[::-1]\n",
    "\n",
    "print(p)"
   ]
  },
  {
   "cell_type": "code",
   "execution_count": 28,
   "id": "17524182",
   "metadata": {},
   "outputs": [
    {
     "name": "stdout",
     "output_type": "stream",
     "text": [
      "Walunj Baban Prashant\n"
     ]
    }
   ],
   "source": [
    "str='Prashant Baban Walunj'\n",
    "a=str.split()[::-1]\n",
    "l=[]\n",
    "for i in a:\n",
    "    l.append(i)\n",
    "print(\" \".join(l))\n"
   ]
  },
  {
   "cell_type": "markdown",
   "id": "5c83f495",
   "metadata": {},
   "source": [
    "# Q.3"
   ]
  },
  {
   "cell_type": "code",
   "execution_count": 5,
   "id": "82337113",
   "metadata": {},
   "outputs": [
    {
     "name": "stdout",
     "output_type": "stream",
     "text": [
      "['Monday', 'Sunday', 'Saturday']\n"
     ]
    }
   ],
   "source": [
    "Days=['Monday','tuesday','friday','Sunday','Saturday']\n",
    "Output=[]\n",
    "for i in Days:      \n",
    "    var = i.split()\n",
    "    for i in range(len(var)):\n",
    "        if var[i][0].isupper():\n",
    "            Output.append(var[i])\n",
    "print(Output)"
   ]
  },
  {
   "cell_type": "markdown",
   "id": "dd30ee4b",
   "metadata": {},
   "source": [
    "# Q.4"
   ]
  },
  {
   "cell_type": "code",
   "execution_count": 6,
   "id": "e6e50db9",
   "metadata": {},
   "outputs": [
    {
     "name": "stdout",
     "output_type": "stream",
     "text": [
      "['1997', '2011', '1993', '2020']\n"
     ]
    }
   ],
   "source": [
    "Batch=['15-06-1997','15-06-2011','15-06-1993','15-06-2020']\n",
    "Output=[]                \n",
    "for i in Batch:   \n",
    "    Output.append(i.split('-')[2])  \n",
    "print(Output)"
   ]
  },
  {
   "cell_type": "markdown",
   "id": "f857fe67",
   "metadata": {},
   "source": [
    "# Q.5"
   ]
  },
  {
   "cell_type": "code",
   "execution_count": 7,
   "id": "032d1339",
   "metadata": {},
   "outputs": [
    {
     "name": "stdout",
     "output_type": "stream",
     "text": [
      "{1: 'Data Science', 2: 'Machine Learning', 3: 'SQL', 4: 'Big Data'}\n"
     ]
    }
   ],
   "source": [
    "Module={'Data Science':1,'Machine Learning':2,'SQL':3,'Big Data':4}\n",
    "Output=dict([(value,key) for key,value in Module.items()])\n",
    "print(Output)"
   ]
  },
  {
   "cell_type": "markdown",
   "id": "b56846d0",
   "metadata": {},
   "source": [
    "# Q.6 "
   ]
  },
  {
   "cell_type": "code",
   "execution_count": 21,
   "id": "e9876c1b",
   "metadata": {},
   "outputs": [
    {
     "name": "stdout",
     "output_type": "stream",
     "text": [
      "5\n",
      "3.5\n",
      "2.25\n",
      "3.125\n",
      "4.5625\n"
     ]
    }
   ],
   "source": [
    "from itertools import accumulate\n",
    "result=accumulate([5,2,1,4,6],lambda x,y:(x+y)/2)      \n",
    "for i in result:\n",
    "    print(i)"
   ]
  },
  {
   "cell_type": "markdown",
   "id": "53ff3e9e",
   "metadata": {},
   "source": [
    "# Q.7"
   ]
  },
  {
   "cell_type": "code",
   "execution_count": 31,
   "id": "55b98a85",
   "metadata": {},
   "outputs": [
    {
     "name": "stdout",
     "output_type": "stream",
     "text": [
      "Enter string:p\n"
     ]
    }
   ],
   "source": [
    "my_string=\"Data Science\"\n",
    "str=input(\"Enter string:\")\n",
    "\n",
    "     "
   ]
  },
  {
   "cell_type": "markdown",
   "id": "ed1ec36d",
   "metadata": {},
   "source": [
    "# Q.8"
   ]
  },
  {
   "cell_type": "code",
   "execution_count": 9,
   "id": "01c225b9",
   "metadata": {},
   "outputs": [
    {
     "name": "stdout",
     "output_type": "stream",
     "text": [
      "Enter number:77752\n",
      "77752 is in the given range\n"
     ]
    }
   ],
   "source": [
    "abc=range(10000,100000)\n",
    "num=int(input(\"Enter number:\"))\n",
    "if num in abc:\n",
    "    print(num,\"is in the given range\")\n",
    "else:\n",
    "    print(num,\"is not in the given range\")"
   ]
  },
  {
   "cell_type": "code",
   "execution_count": 33,
   "id": "56834c0b",
   "metadata": {},
   "outputs": [
    {
     "name": "stdout",
     "output_type": "stream",
     "text": [
      "The number is in the given range\n"
     ]
    }
   ],
   "source": [
    "def check(n):\n",
    "    if n in range(10000,100000):\n",
    "        print(\"The number is in the given range\")\n",
    "    else:\n",
    "        print(\"The number is not in the given range\")\n",
    "check(77752)"
   ]
  },
  {
   "cell_type": "markdown",
   "id": "2224dc75",
   "metadata": {},
   "source": [
    "# Q.9"
   ]
  },
  {
   "cell_type": "code",
   "execution_count": 20,
   "id": "9540217b",
   "metadata": {},
   "outputs": [
    {
     "name": "stdout",
     "output_type": "stream",
     "text": [
      "1\n",
      "1 1\n",
      "1 1 1\n",
      "1 1 1 1\n",
      "1 1 1 1 1\n",
      "1 1 1 1 1 1\n"
     ]
    }
   ],
   "source": [
    "abc='111111'\n",
    "list=[]\n",
    "for i in abc:\n",
    "    list.append(i)\n",
    "    print(\" \".join(list))"
   ]
  },
  {
   "cell_type": "markdown",
   "id": "12a5fbc0",
   "metadata": {},
   "source": [
    "# Q.10"
   ]
  },
  {
   "cell_type": "code",
   "execution_count": 11,
   "id": "530f67e5",
   "metadata": {},
   "outputs": [
    {
     "name": "stdout",
     "output_type": "stream",
     "text": [
      "Sum= 104\n"
     ]
    }
   ],
   "source": [
    "import math\n",
    "test_score=[10,32,23,14,25]\n",
    "abc=sum(test_score)\n",
    "print(\"Sum=\",abc)"
   ]
  },
  {
   "cell_type": "code",
   "execution_count": 12,
   "id": "5e67640b",
   "metadata": {},
   "outputs": [
    {
     "name": "stdout",
     "output_type": "stream",
     "text": [
      "Sum= 104\n"
     ]
    }
   ],
   "source": [
    "test_score=[10,32,23,14,25]\n",
    "sum=0\n",
    "for i in range(len(test_score)):\n",
    "       sum = sum + test_score[i]\n",
    "print(\"Sum=\",sum)"
   ]
  },
  {
   "cell_type": "markdown",
   "id": "c68b5158",
   "metadata": {},
   "source": [
    "# Q.11"
   ]
  },
  {
   "cell_type": "code",
   "execution_count": 41,
   "id": "56838289",
   "metadata": {},
   "outputs": [
    {
     "name": "stdout",
     "output_type": "stream",
     "text": [
      "Minimum Value Of Every Row: [210 106 125 240]\n"
     ]
    },
    {
     "data": {
      "text/plain": [
       "array([[210, 106],\n",
       "       [125, 240]])"
      ]
     },
     "execution_count": 41,
     "metadata": {},
     "output_type": "execute_result"
    }
   ],
   "source": [
    "import numpy as np\n",
    "Score=np.array([[210, 402, 383],\n",
    "[140,375,106],\n",
    "[140,125,217],\n",
    "[292,240,295]])\n",
    "\n",
    "min=np.amin(Score,axis=1)                \n",
    "print(\"Minimum Value Of Every Row:\",min)\n",
    "\n",
    "min.reshape(2,2)"
   ]
  },
  {
   "cell_type": "markdown",
   "id": "23150ecf",
   "metadata": {},
   "source": [
    "# Q.12"
   ]
  },
  {
   "cell_type": "code",
   "execution_count": 14,
   "id": "41eaf901",
   "metadata": {},
   "outputs": [
    {
     "data": {
      "text/plain": [
       "array([-1, 21, -1, 13, -1, 45, -1, -1, -1, -1, 65, -1, -1])"
      ]
     },
     "execution_count": 14,
     "metadata": {},
     "output_type": "execute_result"
    }
   ],
   "source": [
    "num_array=np.array([0,21,32,13,44,45,26,28,38,34,65,48,76])\n",
    "num_array[num_array%2==0]= -1\n",
    "num_array"
   ]
  }
 ],
 "metadata": {
  "kernelspec": {
   "display_name": "Python 3 (ipykernel)",
   "language": "python",
   "name": "python3"
  },
  "language_info": {
   "codemirror_mode": {
    "name": "ipython",
    "version": 3
   },
   "file_extension": ".py",
   "mimetype": "text/x-python",
   "name": "python",
   "nbconvert_exporter": "python",
   "pygments_lexer": "ipython3",
   "version": "3.9.12"
  }
 },
 "nbformat": 4,
 "nbformat_minor": 5
}
