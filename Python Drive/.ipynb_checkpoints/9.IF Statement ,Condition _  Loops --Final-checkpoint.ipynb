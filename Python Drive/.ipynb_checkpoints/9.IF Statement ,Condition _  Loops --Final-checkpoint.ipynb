{
 "cells": [
  {
   "cell_type": "markdown",
   "metadata": {},
   "source": [
    "# Agenda\n",
    "\n",
    "* Conditions & if statement ,\n",
    "* elif ,\n",
    "* else Statement \n"
   ]
  },
  {
   "cell_type": "markdown",
   "metadata": {},
   "source": [
    "# Conditions and If statements\n",
    "\n",
    "#### Python supports the usual logical conditions from mathematics:\n",
    "\n",
    "* Equals: a == b\n",
    "* Not Equals: a != b\n",
    "* Less than: a < b\n",
    "* Less than or equal to: a <= b\n",
    "* Greater than: a > b\n",
    "* Greater than or equal to: a >= b\n"
   ]
  },
  {
   "cell_type": "markdown",
   "metadata": {},
   "source": [
    "#  These conditions can be used in several ways, most commonly in \"if statements\" and loops.\n",
    "\n",
    "* IF\n",
    "* else\n",
    "* if else \n",
    "* elif\n",
    "* Nested If\n",
    "\n",
    "if basically a block and in python we called as suite. Need to keep  one indentation on print statement for one ro equal for all print \n"
   ]
  },
  {
   "cell_type": "code",
   "execution_count": 1,
   "metadata": {},
   "outputs": [
    {
     "name": "stdout",
     "output_type": "stream",
     "text": [
      "Invalid\n"
     ]
    }
   ],
   "source": [
    "a = 300\n",
    "b = 20\n",
    "if b > a:  # statement = if , condition = b>a\n",
    "    print(\"Valid\") \n",
    "else :\n",
    "    print(\"Invalid\")\n"
   ]
  },
  {
   "cell_type": "markdown",
   "metadata": {},
   "source": [
    "# Indentation\n",
    "Python relies on indentation (whitespace at the beginning of a line) to define scope in the code."
   ]
  },
  {
   "cell_type": "code",
   "execution_count": 7,
   "metadata": {},
   "outputs": [
    {
     "name": "stdout",
     "output_type": "stream",
     "text": [
      "b is greater than a\n"
     ]
    }
   ],
   "source": [
    "a = 33\n",
    "b = 200\n",
    "if b > a:\n",
    "    print(\"b is greater than a\")  # 1 tab == 4 time space"
   ]
  },
  {
   "cell_type": "code",
   "execution_count": 11,
   "metadata": {},
   "outputs": [],
   "source": [
    "a = 45\n",
    "b = 300\n",
    "if b < a:\n",
    "    print(\"Valid\") \n",
    "# you will get an error"
   ]
  },
  {
   "cell_type": "markdown",
   "metadata": {},
   "source": [
    "# Elif\n",
    "The elif keyword is pythons way of saying \"if the previous conditions were not true, then try this condition\"."
   ]
  },
  {
   "cell_type": "code",
   "execution_count": 16,
   "metadata": {},
   "outputs": [
    {
     "name": "stdout",
     "output_type": "stream",
     "text": [
      "equal\n"
     ]
    }
   ],
   "source": [
    "a = 44\n",
    "b = 44\n",
    "if b > a:\n",
    "    print(\"Greater\")\n",
    "elif  a == b:\n",
    "    print(\"equal\")\n"
   ]
  },
  {
   "cell_type": "markdown",
   "metadata": {},
   "source": [
    "* If the first condition is fail  then we go to second condition "
   ]
  },
  {
   "cell_type": "code",
   "execution_count": 21,
   "metadata": {},
   "outputs": [
    {
     "name": "stdout",
     "output_type": "stream",
     "text": [
      "Invalid\n"
     ]
    }
   ],
   "source": [
    "a = 555\n",
    "b = 55\n",
    "if b > a:\n",
    "    print(\"Valid\")\n",
    "elif a > b:\n",
    "    print(\"Invalid\")"
   ]
  },
  {
   "cell_type": "markdown",
   "metadata": {},
   "source": [
    "# Else\n",
    "The else keyword catches anything which isn't caught by the preceding conditions."
   ]
  },
  {
   "cell_type": "code",
   "execution_count": 25,
   "metadata": {},
   "outputs": [
    {
     "name": "stdout",
     "output_type": "stream",
     "text": [
      "None\n"
     ]
    }
   ],
   "source": [
    "a = 200\n",
    "b = 20\n",
    "if b > a:  # FAIL\n",
    "    print(\"Greater\")\n",
    "elif a==b:\n",
    "    print(\"Equal\")\n",
    "else:\n",
    "    print(\"None\")"
   ]
  },
  {
   "cell_type": "code",
   "execution_count": 28,
   "metadata": {},
   "outputs": [
    {
     "name": "stdout",
     "output_type": "stream",
     "text": [
      "Failing grade\n"
     ]
    }
   ],
   "source": [
    "grade = 45\n",
    "if grade >= 90:\n",
    "    print(\"A grade\")\n",
    "elif grade >=80:\n",
    "    print(\"B grade\")\n",
    "\n",
    "elif grade >=70:\n",
    "    print(\"C grade\")\n",
    "\n",
    "elif grade >= 65:\n",
    "    print(\"D grade\")\n",
    "\n",
    "else:\n",
    "    print(\"Failing grade\")"
   ]
  },
  {
   "cell_type": "markdown",
   "metadata": {},
   "source": [
    "#### You can also have an else without the elif:"
   ]
  },
  {
   "cell_type": "code",
   "execution_count": 31,
   "metadata": {},
   "outputs": [
    {
     "name": "stdout",
     "output_type": "stream",
     "text": [
      "b is not greater than a\n"
     ]
    }
   ],
   "source": [
    "a = 2000\n",
    "b = 333\n",
    "if b > a:\n",
    "    print(\"b is greater than a\")\n",
    "else:\n",
    "    print(\"b is not greater than a\")"
   ]
  },
  {
   "cell_type": "markdown",
   "metadata": {},
   "source": [
    "## Short Hand If\n",
    "If you have only one statement to execute, you can put it on the same line as the if statement."
   ]
  },
  {
   "cell_type": "code",
   "execution_count": null,
   "metadata": {},
   "outputs": [],
   "source": [
    "if a > b:\n",
    "    print(\"a is greater than b\")"
   ]
  },
  {
   "cell_type": "markdown",
   "metadata": {},
   "source": [
    "## Short Hand If ... Else\n",
    "If you have only one statement to execute, one for if, and one for else, you can put it all on the same line:"
   ]
  },
  {
   "cell_type": "code",
   "execution_count": null,
   "metadata": {},
   "outputs": [],
   "source": [
    "a = 2000\n",
    "b = 330\n",
    "print(\"A\") if a > b else print(\"B\")"
   ]
  },
  {
   "cell_type": "markdown",
   "metadata": {},
   "source": [
    "# And\n",
    "The and keyword is a logical operator, and is used to combine conditional statements:"
   ]
  },
  {
   "cell_type": "code",
   "execution_count": 34,
   "metadata": {},
   "outputs": [
    {
     "name": "stdout",
     "output_type": "stream",
     "text": [
      "Both conditions are True\n"
     ]
    }
   ],
   "source": [
    "a = 200\n",
    "b = 300\n",
    "c = 500\n",
    "if a > b and c > a: # condition1 = True & # condition2 = True then only Print\n",
    "    print(\"Both conditions are True\")\n",
    "else:\n",
    "    print(\"invalid\")"
   ]
  },
  {
   "cell_type": "markdown",
   "metadata": {},
   "source": [
    "# Or\n",
    "The or keyword is a logical operator, and is used to combine conditional statements"
   ]
  },
  {
   "cell_type": "code",
   "execution_count": 39,
   "metadata": {},
   "outputs": [
    {
     "name": "stdout",
     "output_type": "stream",
     "text": [
      "valid\n"
     ]
    }
   ],
   "source": [
    "a = 200\n",
    "b = 30\n",
    "c = 500\n",
    "if a > b or a > c: # condition1 = True & # condition2 = False any one is true then Print\n",
    "    print(\"valid\")\n",
    "else:\n",
    "    print(\"invalid\")"
   ]
  },
  {
   "cell_type": "markdown",
   "metadata": {},
   "source": [
    "# Nested If\n",
    "You can have if statements inside if statements, this is called nested if statements."
   ]
  },
  {
   "cell_type": "code",
   "execution_count": 42,
   "metadata": {},
   "outputs": [
    {
     "name": "stdout",
     "output_type": "stream",
     "text": [
      "Positive number\n"
     ]
    }
   ],
   "source": [
    "num=11  #3, 6 & 11\n",
    "if num >= 5:   #pass                 #outer if statement\n",
    "    if num < 9: #Fail                #inner = nested if statement\n",
    "        print(\"Zero\")           #if both condition is met\n",
    "    else:\n",
    "        print(\"Positive number\") # if second nested condition is not met\n",
    "else:                           #outer else statement\n",
    "    print(\"Negative number\")    # if first  the condition not met"
   ]
  },
  {
   "cell_type": "code",
   "execution_count": 45,
   "metadata": {},
   "outputs": [
    {
     "name": "stdout",
     "output_type": "stream",
     "text": [
      "Passing grade of:\n",
      "A\n"
     ]
    }
   ],
   "source": [
    "grade=91 ##60 & 66\n",
    "if grade >= 65: #outer if \n",
    "    print(\"Passing grade of:\")\n",
    "    if grade >= 90: #first nested if\n",
    "        print(\"A\")\n",
    "\n",
    "    elif grade >=80: #first nested elif\n",
    "        print(\"B\")\n",
    "\n",
    "    elif grade >=70: #Second nested elif\n",
    "        print(\"C\")\n",
    "\n",
    "    elif grade >= 65: #third nested elif\n",
    "        print(\"D\")\n",
    "else:  #outer else\n",
    "    print(\"Failing grade\")"
   ]
  },
  {
   "cell_type": "code",
   "execution_count": 47,
   "metadata": {},
   "outputs": [
    {
     "name": "stdout",
     "output_type": "stream",
     "text": [
      "Invalid\n"
     ]
    }
   ],
   "source": [
    "var = 210 # 45,201\n",
    "if var < 200: # Fail   outer \n",
    "    print(\"Expression value is less than 200\")\n",
    "    if var == 150: # fail  inner\n",
    "        print (\"Which is 150\")\n",
    "    elif var == 100: # pass\n",
    "        print (\"Which is 100\")\n",
    "    elif var == 50:\n",
    "        print (\"Which is 50\")\n",
    "    elif var < 50:\n",
    "        print (\"Expression value is less than 50\")\n",
    "else:\n",
    "    print (\"Invalid\")"
   ]
  },
  {
   "cell_type": "markdown",
   "metadata": {},
   "source": [
    "# finished"
   ]
  }
 ],
 "metadata": {
  "kernelspec": {
   "display_name": "Python 3 (ipykernel)",
   "language": "python",
   "name": "python3"
  },
  "language_info": {
   "codemirror_mode": {
    "name": "ipython",
    "version": 3
   },
   "file_extension": ".py",
   "mimetype": "text/x-python",
   "name": "python",
   "nbconvert_exporter": "python",
   "pygments_lexer": "ipython3",
   "version": "3.9.12"
  }
 },
 "nbformat": 4,
 "nbformat_minor": 2
}
