{
 "cells": [
  {
   "cell_type": "markdown",
   "id": "9d7b104b",
   "metadata": {},
   "source": [
    "# # Question 1"
   ]
  },
  {
   "cell_type": "code",
   "execution_count": 1,
   "id": "935b5ece",
   "metadata": {},
   "outputs": [],
   "source": [
    "import pandas as pd "
   ]
  },
  {
   "cell_type": "code",
   "execution_count": null,
   "id": "758e3b41",
   "metadata": {},
   "outputs": [],
   "source": [
    "pd.read_csv(r\"C:\\Users\\Lenovo\\Desktop\\PYTHON\\Global_Superstore.xlsx\")"
   ]
  },
  {
   "cell_type": "code",
   "execution_count": null,
   "id": "f9041ff2",
   "metadata": {},
   "outputs": [],
   "source": [
    "new = pd.read_csv(r\"C:\\Users\\Lenovo\\Desktop\\PYTHON\\Global_Superstore.xlsx\", sheet_name=\"Orders\")"
   ]
  },
  {
   "cell_type": "code",
   "execution_count": null,
   "id": "31d00d85",
   "metadata": {},
   "outputs": [],
   "source": [
    "new1 = pd.read_csv(r\"C:\\Users\\Lenovo\\Desktop\\PYTHON\\Global_Superstore.xlsx\", sheet_name=\"Return\")"
   ]
  },
  {
   "cell_type": "markdown",
   "id": "33c31c80",
   "metadata": {},
   "source": [
    "# # Question 2"
   ]
  },
  {
   "cell_type": "code",
   "execution_count": null,
   "id": "fd8084bb",
   "metadata": {},
   "outputs": [],
   "source": [
    "d1 = {'order_id':pd.series([CA-2014-AB10015140-41954,\n",
    "IN-2014-JR162107-41675,\n",
    "IN-2014-CR127307-41929,\n",
    "ES-2014-KM1637548-41667,\n",
    "SG-2014-RH9495111-41948]),\n",
    "    'region':pd.series([Central US,\n",
    "Oceania,\n",
    "Oceania,\n",
    "Western Europe,\n",
    "Western Africa]) }\n",
    "df1 = pd.DataFrame(d1)\n",
    "\n",
    "d2 = {'order_id':pd.series([CA-2012-SA20830140-41210,\n",
    "IN-2012-PB19210127-41259,\n",
    "CA-2012-SC20095140-41174,\n",
    "IN-2015-JH158207-42140,\n",
    "IN-2014-LC168857-41747]),\n",
    "     'region':pd.series([Central US,\n",
    "Eastern Asia,\n",
    "Central US,\n",
    "Oceania,\n",
    "Oceania])}\n",
    "\n",
    "df2 = pd.DataFrame(d2)\n",
    "\n",
    "pd.merge (df1,df2, on = 'order_id', how='inner')"
   ]
  },
  {
   "cell_type": "markdown",
   "id": "fe791d58",
   "metadata": {},
   "source": [
    "# question 6\n"
   ]
  },
  {
   "cell_type": "code",
   "execution_count": null,
   "id": "5a9ace7c",
   "metadata": {},
   "outputs": [],
   "source": [
    "pd.read_csv(r\"C:\\Users\\Lenovo\\Desktop\\PYTHON\\Global_Superstore.xlsx\")\n",
    "x = 'order_id'\n",
    "print(type(x))\n",
    "b=float(x)\n",
    "print(type(b))\n",
    "\n",
    "z = 'profit'\n",
    "print(type(z))\n",
    "h=int(z)\n",
    "print(type(h))"
   ]
  },
  {
   "cell_type": "markdown",
   "id": "f1872157",
   "metadata": {},
   "source": [
    "# Question 5"
   ]
  },
  {
   "cell_type": "code",
   "execution_count": null,
   "id": "1a82f9c2",
   "metadata": {},
   "outputs": [],
   "source": [
    "new = pd.read_csv(r\"C:\\Users\\Lenovo\\Desktop\\PYTHON\\Global_Superstore.xlsx\")\n",
    "new.rename['sales':'revenue']"
   ]
  }
 ],
 "metadata": {
  "kernelspec": {
   "display_name": "Python 3 (ipykernel)",
   "language": "python",
   "name": "python3"
  },
  "language_info": {
   "codemirror_mode": {
    "name": "ipython",
    "version": 3
   },
   "file_extension": ".py",
   "mimetype": "text/x-python",
   "name": "python",
   "nbconvert_exporter": "python",
   "pygments_lexer": "ipython3",
   "version": "3.9.12"
  }
 },
 "nbformat": 4,
 "nbformat_minor": 5
}
